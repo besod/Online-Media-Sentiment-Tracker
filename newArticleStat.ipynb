{
 "cells": [
  {
   "attachments": {},
   "cell_type": "markdown",
   "metadata": {},
   "source": [
    "## Data Mining and Sentiment Analysis using NLTK"
   ]
  },
  {
   "cell_type": "code",
   "execution_count": 1597,
   "metadata": {},
   "outputs": [],
   "source": [
    "#Import necessary modules \n",
    "import sqlite3 \n",
    "import pandas as pd\n",
    "import nltk\n"
   ]
  },
  {
   "cell_type": "code",
   "execution_count": 1598,
   "metadata": {},
   "outputs": [],
   "source": [
    "#Connect to sqlite database 'newArticle.db'\n",
    "conn = sqlite3.connect(\"newsArticle.db\")"
   ]
  },
  {
   "cell_type": "code",
   "execution_count": 1599,
   "metadata": {},
   "outputs": [
    {
     "name": "stdout",
     "output_type": "stream",
     "text": [
      "<class 'pandas.core.frame.DataFrame'>\n",
      "RangeIndex: 165 entries, 0 to 164\n",
      "Data columns (total 2 columns):\n",
      " #   Column  Non-Null Count  Dtype \n",
      "---  ------  --------------  ----- \n",
      " 0   topic   165 non-null    object\n",
      " 1   body    165 non-null    object\n",
      "dtypes: object(2)\n",
      "memory usage: 2.7+ KB\n",
      "117\n"
     ]
    }
   ],
   "source": [
    "# Import scraped data columns 'topic' and 'body'.\n",
    "df_1=pd.read_sql_query(\"select topic,body from articles\",conn)\n",
    "df_1.info()\n",
    "\n",
    "#pd.options.mode.chained_assignment Can be set to None, \"warn\", or \"raise\". \"warn\" is the default.\n",
    "# None will suppress the warning entirely, and \"raise\" will throw a SettingWithCopyError\n",
    "pd.options.mode.chained_assignment = None\n",
    "\n",
    "#Delete duplicate rows based on 'body' column. We use this copy of the data frame in the analysis in the rows below.\n",
    "df=df_1.drop_duplicates(subset=['body'], keep=False)\n",
    "print(len(df))\n"
   ]
  },
  {
   "cell_type": "code",
   "execution_count": 1600,
   "metadata": {},
   "outputs": [
    {
     "name": "stdout",
     "output_type": "stream",
     "text": [
      "117\n"
     ]
    },
    {
     "data": {
      "text/html": [
       "<div>\n",
       "<style scoped>\n",
       "    .dataframe tbody tr th:only-of-type {\n",
       "        vertical-align: middle;\n",
       "    }\n",
       "\n",
       "    .dataframe tbody tr th {\n",
       "        vertical-align: top;\n",
       "    }\n",
       "\n",
       "    .dataframe thead th {\n",
       "        text-align: right;\n",
       "    }\n",
       "</style>\n",
       "<table border=\"1\" class=\"dataframe\">\n",
       "  <thead>\n",
       "    <tr style=\"text-align: right;\">\n",
       "      <th></th>\n",
       "      <th>topic</th>\n",
       "      <th>body</th>\n",
       "    </tr>\n",
       "  </thead>\n",
       "  <tbody>\n",
       "    <tr>\n",
       "      <th>14</th>\n",
       "      <td>Election</td>\n",
       "      <td>when jair bolsonaro lost his bid for re-electi...</td>\n",
       "    </tr>\n",
       "    <tr>\n",
       "      <th>15</th>\n",
       "      <td>Election</td>\n",
       "      <td>the last time voters in la goulette, a suburb ...</td>\n",
       "    </tr>\n",
       "    <tr>\n",
       "      <th>16</th>\n",
       "      <td>Election</td>\n",
       "      <td>for luiz inácio lula da silva, brazil’s leftis...</td>\n",
       "    </tr>\n",
       "    <tr>\n",
       "      <th>17</th>\n",
       "      <td>Election</td>\n",
       "      <td>despite its name, the palace of parliament in ...</td>\n",
       "    </tr>\n",
       "    <tr>\n",
       "      <th>18</th>\n",
       "      <td>Election</td>\n",
       "      <td>on december 4th, eight days after honduras hel...</td>\n",
       "    </tr>\n",
       "  </tbody>\n",
       "</table>\n",
       "</div>"
      ],
      "text/plain": [
       "       topic                                               body\n",
       "14  Election  when jair bolsonaro lost his bid for re-electi...\n",
       "15  Election  the last time voters in la goulette, a suburb ...\n",
       "16  Election  for luiz inácio lula da silva, brazil’s leftis...\n",
       "17  Election  despite its name, the palace of parliament in ...\n",
       "18  Election  on december 4th, eight days after honduras hel..."
      ]
     },
     "execution_count": 1600,
     "metadata": {},
     "output_type": "execute_result"
    }
   ],
   "source": [
    "# Data transformation\n",
    "# the astype() metod transforms the data into strings\n",
    "df['body'] = df['body'].astype(str).str.lower()\n",
    "print(len(df['body']))\n",
    "df.head(5)\n",
    "\n"
   ]
  },
  {
   "attachments": {},
   "cell_type": "markdown",
   "metadata": {},
   "source": [
    "### Tokenization"
   ]
  },
  {
   "cell_type": "code",
   "execution_count": 1601,
   "metadata": {},
   "outputs": [
    {
     "name": "stdout",
     "output_type": "stream",
     "text": [
      "{'during', 'needn', 'until', \"weren't\", 's', 'ain', 'them', 'of', 'being', 'in', 'their', 'a', \"you'll\", 'doesn', 'to', 'here', 'had', 'do', 'with', 'just', 'o', 'won', 'we', 'y', 'our', 'which', 'ourselves', \"that'll\", 'as', 'nor', 'down', 'his', 'were', 'the', 'those', 'there', 'll', 'theirs', \"you're\", 'shouldn', 'haven', 'all', 'her', \"it's\", 'has', 'shan', 'against', 'm', \"mustn't\", 're', 'if', 'mustn', 'what', 'yourselves', 'don', 'above', 'each', \"won't\", \"you'd\", 'am', 'some', 'aren', 'wouldn', 'from', 'himself', \"couldn't\", 'into', \"shouldn't\", 'too', 'themselves', 'hasn', \"needn't\", 'him', 'my', 'me', 'about', 'now', 'again', 'own', \"she's\", 'mightn', 'does', 'after', 'who', 'ours', 'because', 'couldn', 'ma', 'yours', 'have', 'isn', 'been', \"doesn't\", 'be', 'on', 'between', 'below', 'whom', \"wouldn't\", 'and', 'should', 'she', 'that', 'not', 'hers', \"should've\", 'very', 'up', 'an', 'this', 'how', 'no', 'd', 'he', 'but', 'where', 'they', 'are', 'by', 'for', 'then', 'will', 'weren', 'or', 'most', 'both', 'was', 'once', 'before', 't', \"didn't\", 'any', 'your', 'further', 'you', 'such', 'i', 'under', 'wasn', 'other', 'over', 'only', 'did', \"hadn't\", 'so', 'out', 'itself', 'having', 'same', 'through', \"isn't\", 'more', 'is', \"aren't\", 'didn', \"you've\", 've', 'why', \"shan't\", 'at', 'it', 'few', 'myself', 'when', 'off', 'than', 'doing', \"mightn't\", 'while', \"hasn't\", 'these', \"don't\", 'hadn', 'yourself', 'can', \"haven't\", \"wasn't\", 'herself', 'its'}\n",
      "179\n",
      "190\n"
     ]
    },
    {
     "name": "stderr",
     "output_type": "stream",
     "text": [
      "[nltk_data] Downloading package stopwords to\n",
      "[nltk_data]     C:\\Users\\Benjamin\\AppData\\Roaming\\nltk_data...\n",
      "[nltk_data]   Package stopwords is already up-to-date!\n"
     ]
    },
    {
     "name": "stdout",
     "output_type": "stream",
     "text": [
      "14     [jair, bolsonaro, lost, bid, october, said, no...\n",
      "15     [last, time, voters, la, goulette, suburb, tun...\n",
      "16     [luiz, inácio, lula, da, silva, brazil, leftis...\n",
      "17     [despite, name, palace, parliament, centre, bu...\n",
      "18     [december, eight, days, honduras, held, genera...\n",
      "                             ...                        \n",
      "146    [lima, july, reuters, peru, bank, boosted, bor...\n",
      "149    [ukrainian, refugees, safe, peace, year, warby...\n",
      "150    [president, bidenelection, coveragecongresssup...\n",
      "153    [economyfinancial, marketscautious, steady, co...\n",
      "163    [key, developments, aftermath, turkey, syria, ...\n",
      "Name: body_token, Length: 117, dtype: object\n"
     ]
    }
   ],
   "source": [
    "#Tokenization is splitting up body of the text into smaller lines and words.\n",
    "# NLTK’s RegexpTokenizer imported and used to perform tokenization in combination with regular expressions.\n",
    "from nltk.tokenize import RegexpTokenizer\n",
    "from nltk.tokenize import word_tokenize\n",
    "from nltk.corpus import stopwords\n",
    "\n",
    "# Stop words are words in a stop list which are dropped before analysing natural language data since they don’t contain valuable information (like “will”, “and”, “or”, “has”, …).\n",
    "nltk.download('stopwords')\n",
    "\n",
    "# Make a list of english stopwords\n",
    "stop_words = set(stopwords.words('english'))\n",
    "print(stop_words)\n",
    "print(len(stop_words))\n",
    "\n",
    "# Extend the list with own custom stopwords\n",
    "my_stopwords = ['https','could','years','not','prices','price','would','can','thursday','monday','wednesday','central','people']\n",
    "stop_words.update(my_stopwords)\n",
    "print(len(stop_words))\n",
    "\n",
    "# \\w+ matches 1 or more word characters (same as [a-zA-Z0-9_]+).This means most characters that can be part of a word in any language, as well as numbers and the underscore.\n",
    "regexp = RegexpTokenizer('\\w+')\n",
    "df['body_token']=df['body'].apply(regexp.tokenize)\n",
    "\n",
    "#Remove stopwords from the scraped articles\n",
    "df['body_token'] = df['body'].apply(lambda x: [word.lower() for word in word_tokenize(x) if word.isalpha() and word.lower() not in stop_words])\n",
    "print(df['body_token'])\n"
   ]
  },
  {
   "cell_type": "code",
   "execution_count": 1602,
   "metadata": {},
   "outputs": [
    {
     "data": {
      "text/html": [
       "<div>\n",
       "<style scoped>\n",
       "    .dataframe tbody tr th:only-of-type {\n",
       "        vertical-align: middle;\n",
       "    }\n",
       "\n",
       "    .dataframe tbody tr th {\n",
       "        vertical-align: top;\n",
       "    }\n",
       "\n",
       "    .dataframe thead th {\n",
       "        text-align: right;\n",
       "    }\n",
       "</style>\n",
       "<table border=\"1\" class=\"dataframe\">\n",
       "  <thead>\n",
       "    <tr style=\"text-align: right;\">\n",
       "      <th></th>\n",
       "      <th>body</th>\n",
       "      <th>body_token</th>\n",
       "      <th>body_string</th>\n",
       "    </tr>\n",
       "  </thead>\n",
       "  <tbody>\n",
       "    <tr>\n",
       "      <th>14</th>\n",
       "      <td>when jair bolsonaro lost his bid for re-electi...</td>\n",
       "      <td>[jair, bolsonaro, lost, bid, october, said, no...</td>\n",
       "      <td>bolsonaro october nothing explicitly reject re...</td>\n",
       "    </tr>\n",
       "    <tr>\n",
       "      <th>15</th>\n",
       "      <td>the last time voters in la goulette, a suburb ...</td>\n",
       "      <td>[last, time, voters, la, goulette, suburb, tun...</td>\n",
       "      <td>voters goulette suburb tunisian capital repres...</td>\n",
       "    </tr>\n",
       "    <tr>\n",
       "      <th>16</th>\n",
       "      <td>for luiz inácio lula da silva, brazil’s leftis...</td>\n",
       "      <td>[luiz, inácio, lula, da, silva, brazil, leftis...</td>\n",
       "      <td>inácio brazil leftist former president disappo...</td>\n",
       "    </tr>\n",
       "    <tr>\n",
       "      <th>17</th>\n",
       "      <td>despite its name, the palace of parliament in ...</td>\n",
       "      <td>[despite, name, palace, parliament, centre, bu...</td>\n",
       "      <td>despite palace parliament centre bucharest rom...</td>\n",
       "    </tr>\n",
       "    <tr>\n",
       "      <th>18</th>\n",
       "      <td>on december 4th, eight days after honduras hel...</td>\n",
       "      <td>[december, eight, days, honduras, held, genera...</td>\n",
       "      <td>december honduras general elections country el...</td>\n",
       "    </tr>\n",
       "  </tbody>\n",
       "</table>\n",
       "</div>"
      ],
      "text/plain": [
       "                                                 body  \\\n",
       "14  when jair bolsonaro lost his bid for re-electi...   \n",
       "15  the last time voters in la goulette, a suburb ...   \n",
       "16  for luiz inácio lula da silva, brazil’s leftis...   \n",
       "17  despite its name, the palace of parliament in ...   \n",
       "18  on december 4th, eight days after honduras hel...   \n",
       "\n",
       "                                           body_token  \\\n",
       "14  [jair, bolsonaro, lost, bid, october, said, no...   \n",
       "15  [last, time, voters, la, goulette, suburb, tun...   \n",
       "16  [luiz, inácio, lula, da, silva, brazil, leftis...   \n",
       "17  [despite, name, palace, parliament, centre, bu...   \n",
       "18  [december, eight, days, honduras, held, genera...   \n",
       "\n",
       "                                          body_string  \n",
       "14  bolsonaro october nothing explicitly reject re...  \n",
       "15  voters goulette suburb tunisian capital repres...  \n",
       "16  inácio brazil leftist former president disappo...  \n",
       "17  despite palace parliament centre bucharest rom...  \n",
       "18  december honduras general elections country el...  "
      ]
     },
     "execution_count": 1602,
     "metadata": {},
     "output_type": "execute_result"
    }
   ],
   "source": [
    "#Remove infrequent words.\n",
    "# First change the format of body_token to strings and keep only words which are longer than 5 letters\n",
    "df['body_string'] = df['body_token'].apply(lambda x: ' '.join([item for item in x if len(item)>5]))\n",
    "\n",
    "# Prints the row article text, token and strings which contain more than 5 letters \n",
    "df[['body', 'body_token', 'body_string']].head()"
   ]
  },
  {
   "cell_type": "code",
   "execution_count": 1603,
   "metadata": {},
   "outputs": [],
   "source": [
    "#Create a list of all words longer than 5 letter as specified above. \n",
    "all_words = ' '.join([word for word in df['body_string']])\n",
    "\n",
    "#Tokenize the new article strings list created.\n",
    "tokenized_words = nltk.tokenize.word_tokenize(all_words)\n"
   ]
  },
  {
   "cell_type": "code",
   "execution_count": 1604,
   "metadata": {},
   "outputs": [
    {
     "data": {
      "text/plain": [
       "FreqDist({'inflation': 916, 'interest': 470, 'policy': 224, 'economic': 203, 'market': 197, 'higher': 189, 'economy': 168, 'monetary': 160, 'turkey': 148, 'income': 148, ...})"
      ]
     },
     "execution_count": 1604,
     "metadata": {},
     "output_type": "execute_result"
    }
   ],
   "source": [
    "# Create a frequency distribution which records the number of times each word has occurred:\n",
    "from nltk.probability import FreqDist\n",
    "\n",
    "fdist = FreqDist(tokenized_words)\n",
    "fdist\n"
   ]
  },
  {
   "cell_type": "code",
   "execution_count": 1605,
   "metadata": {},
   "outputs": [
    {
     "data": {
      "text/html": [
       "<div>\n",
       "<style scoped>\n",
       "    .dataframe tbody tr th:only-of-type {\n",
       "        vertical-align: middle;\n",
       "    }\n",
       "\n",
       "    .dataframe tbody tr th {\n",
       "        vertical-align: top;\n",
       "    }\n",
       "\n",
       "    .dataframe thead th {\n",
       "        text-align: right;\n",
       "    }\n",
       "</style>\n",
       "<table border=\"1\" class=\"dataframe\">\n",
       "  <thead>\n",
       "    <tr style=\"text-align: right;\">\n",
       "      <th></th>\n",
       "      <th>body</th>\n",
       "      <th>body_token</th>\n",
       "      <th>body_string</th>\n",
       "      <th>body_string_fdist</th>\n",
       "    </tr>\n",
       "  </thead>\n",
       "  <tbody>\n",
       "    <tr>\n",
       "      <th>14</th>\n",
       "      <td>when jair bolsonaro lost his bid for re-electi...</td>\n",
       "      <td>[jair, bolsonaro, lost, bid, october, said, no...</td>\n",
       "      <td>bolsonaro october nothing explicitly reject re...</td>\n",
       "      <td>bolsonaro october nothing result though either...</td>\n",
       "    </tr>\n",
       "    <tr>\n",
       "      <th>15</th>\n",
       "      <td>the last time voters in la goulette, a suburb ...</td>\n",
       "      <td>[last, time, voters, la, goulette, suburb, tun...</td>\n",
       "      <td>voters goulette suburb tunisian capital repres...</td>\n",
       "      <td>voters capital parliament parties candidates r...</td>\n",
       "    </tr>\n",
       "    <tr>\n",
       "      <th>16</th>\n",
       "      <td>for luiz inácio lula da silva, brazil’s leftis...</td>\n",
       "      <td>[luiz, inácio, lula, da, silva, brazil, leftis...</td>\n",
       "      <td>inácio brazil leftist former president disappo...</td>\n",
       "      <td>brazil former president result supporters majo...</td>\n",
       "    </tr>\n",
       "    <tr>\n",
       "      <th>17</th>\n",
       "      <td>despite its name, the palace of parliament in ...</td>\n",
       "      <td>[despite, name, palace, parliament, centre, bu...</td>\n",
       "      <td>despite palace parliament centre bucharest rom...</td>\n",
       "      <td>despite parliament capital democracy compariso...</td>\n",
       "    </tr>\n",
       "    <tr>\n",
       "      <th>18</th>\n",
       "      <td>on december 4th, eight days after honduras hel...</td>\n",
       "      <td>[december, eight, days, honduras, held, genera...</td>\n",
       "      <td>december honduras general elections country el...</td>\n",
       "      <td>december general elections country electoral c...</td>\n",
       "    </tr>\n",
       "  </tbody>\n",
       "</table>\n",
       "</div>"
      ],
      "text/plain": [
       "                                                 body  \\\n",
       "14  when jair bolsonaro lost his bid for re-electi...   \n",
       "15  the last time voters in la goulette, a suburb ...   \n",
       "16  for luiz inácio lula da silva, brazil’s leftis...   \n",
       "17  despite its name, the palace of parliament in ...   \n",
       "18  on december 4th, eight days after honduras hel...   \n",
       "\n",
       "                                           body_token  \\\n",
       "14  [jair, bolsonaro, lost, bid, october, said, no...   \n",
       "15  [last, time, voters, la, goulette, suburb, tun...   \n",
       "16  [luiz, inácio, lula, da, silva, brazil, leftis...   \n",
       "17  [despite, name, palace, parliament, centre, bu...   \n",
       "18  [december, eight, days, honduras, held, genera...   \n",
       "\n",
       "                                          body_string  \\\n",
       "14  bolsonaro october nothing explicitly reject re...   \n",
       "15  voters goulette suburb tunisian capital repres...   \n",
       "16  inácio brazil leftist former president disappo...   \n",
       "17  despite palace parliament centre bucharest rom...   \n",
       "18  december honduras general elections country el...   \n",
       "\n",
       "                                    body_string_fdist  \n",
       "14  bolsonaro october nothing result though either...  \n",
       "15  voters capital parliament parties candidates r...  \n",
       "16  brazil former president result supporters majo...  \n",
       "17  despite parliament capital democracy compariso...  \n",
       "18  december general elections country electoral c...  "
      ]
     },
     "execution_count": 1605,
     "metadata": {},
     "output_type": "execute_result"
    }
   ],
   "source": [
    "# We can use our fdist dictionary to drop words which occur less than a certain amount of times (usually a value of 3 or 4 but we use 10 here).\n",
    "\n",
    "df['body_string_fdist'] = df['body_token'].apply(lambda x: ' '.join([item for item in x if fdist[item] >= 10 ]))\n",
    "df[['body', 'body_token', 'body_string', 'body_string_fdist']].head()"
   ]
  },
  {
   "attachments": {},
   "cell_type": "markdown",
   "metadata": {},
   "source": [
    "## Lemmatization"
   ]
  },
  {
   "cell_type": "code",
   "execution_count": 1606,
   "metadata": {},
   "outputs": [
    {
     "name": "stderr",
     "output_type": "stream",
     "text": [
      "[nltk_data] Downloading package wordnet to\n",
      "[nltk_data]     C:\\Users\\Benjamin\\AppData\\Roaming\\nltk_data...\n",
      "[nltk_data]   Package wordnet is already up-to-date!\n",
      "[nltk_data] Downloading package omw-1.4 to\n",
      "[nltk_data]     C:\\Users\\Benjamin\\AppData\\Roaming\\nltk_data...\n",
      "[nltk_data]   Package omw-1.4 is already up-to-date!\n"
     ]
    },
    {
     "data": {
      "text/plain": [
       "True    117\n",
       "Name: is_equal, dtype: int64"
      ]
     },
     "execution_count": 1606,
     "metadata": {},
     "output_type": "execute_result"
    }
   ],
   "source": [
    "\n",
    "# Lemmatisation (or lemmatization) in linguistics is the process of grouping together the inflected forms of a word so they can be analysed as a \n",
    "# single item, identified by the word's lemma, or dictionary form.[Wikipedia]\n",
    "\n",
    "nltk.download('wordnet')\n",
    "nltk.download('omw-1.4')\n",
    "from nltk.stem import WordNetLemmatizer\n",
    "\n",
    "wordnet_lem = WordNetLemmatizer()\n",
    "df['body_string_lem'] = df['body_string_fdist'].apply(wordnet_lem.lemmatize)\n",
    "\n",
    "# check if the columns are equal. This is to make sure that there are words to lemmatize.\n",
    "df['is_equal']= (df['body_string_fdist']==df['body_string_lem'])\n",
    "\n",
    "# show level count. Returns true and prints number of rows if the rows in every column is equal\n",
    "df.is_equal.value_counts()\n"
   ]
  },
  {
   "attachments": {},
   "cell_type": "markdown",
   "metadata": {},
   "source": [
    "## Frequency distribution"
   ]
  },
  {
   "cell_type": "code",
   "execution_count": 1607,
   "metadata": {},
   "outputs": [
    {
     "name": "stderr",
     "output_type": "stream",
     "text": [
      "[nltk_data] Downloading package punkt to\n",
      "[nltk_data]     C:\\Users\\Benjamin\\AppData\\Roaming\\nltk_data...\n",
      "[nltk_data]   Package punkt is already up-to-date!\n"
     ]
    }
   ],
   "source": [
    "from nltk.probability import FreqDist\n",
    "nltk.download('punkt')\n",
    "\n",
    "#a new variable assigned to all lematized words\n",
    "all_words_lem = ' '.join([word for word in df['body_string_lem']])\n",
    "    "
   ]
  },
  {
   "cell_type": "code",
   "execution_count": 1608,
   "metadata": {},
   "outputs": [
    {
     "name": "stdout",
     "output_type": "stream",
     "text": [
      "inflation  interest    policy  economic    market \n",
      "      916       470       224       203       197 \n"
     ]
    }
   ],
   "source": [
    "#Tokenize lematized words and display frequency distribution.\n",
    "words = nltk.word_tokenize(all_words_lem)\n",
    "fd = FreqDist(words)\n",
    "\n",
    "#Display most common words in the lematized word cluster\n",
    "fd.most_common(5)\n",
    "fd.tabulate(5)"
   ]
  },
  {
   "attachments": {},
   "cell_type": "markdown",
   "metadata": {},
   "source": [
    "## Plot search words against their frequency of occurences in Plotly.\n",
    "#### Add search words here if necessary"
   ]
  },
  {
   "cell_type": "code",
   "execution_count": 1609,
   "metadata": {},
   "outputs": [
    {
     "name": "stdout",
     "output_type": "stream",
     "text": [
      "inflation     916\n",
      "corruption     61\n",
      "rate          485\n",
      "interest      470\n",
      "drought         1\n",
      "dtype: int64\n"
     ]
    },
    {
     "data": {
      "application/vnd.plotly.v1+json": {
       "config": {
        "plotlyServerURL": "https://plot.ly"
       },
       "data": [
        {
         "alignmentgroup": "True",
         "hovertemplate": "x=%{x}<br>y=%{y}<extra></extra>",
         "legendgroup": "",
         "marker": {
          "color": "#636efa",
          "pattern": {
           "shape": ""
          }
         },
         "name": "",
         "offsetgroup": "",
         "orientation": "h",
         "showlegend": false,
         "textposition": "auto",
         "type": "bar",
         "x": [
          916,
          61,
          485,
          470,
          1
         ],
         "xaxis": "x",
         "y": [
          "inflation",
          "corruption",
          "rate",
          "interest",
          "drought"
         ],
         "yaxis": "y"
        }
       ],
       "layout": {
        "barmode": "stack",
        "legend": {
         "tracegroupgap": 0
        },
        "template": {
         "data": {
          "bar": [
           {
            "error_x": {
             "color": "#2a3f5f"
            },
            "error_y": {
             "color": "#2a3f5f"
            },
            "marker": {
             "line": {
              "color": "#E5ECF6",
              "width": 0.5
             },
             "pattern": {
              "fillmode": "overlay",
              "size": 10,
              "solidity": 0.2
             }
            },
            "type": "bar"
           }
          ],
          "barpolar": [
           {
            "marker": {
             "line": {
              "color": "#E5ECF6",
              "width": 0.5
             },
             "pattern": {
              "fillmode": "overlay",
              "size": 10,
              "solidity": 0.2
             }
            },
            "type": "barpolar"
           }
          ],
          "carpet": [
           {
            "aaxis": {
             "endlinecolor": "#2a3f5f",
             "gridcolor": "white",
             "linecolor": "white",
             "minorgridcolor": "white",
             "startlinecolor": "#2a3f5f"
            },
            "baxis": {
             "endlinecolor": "#2a3f5f",
             "gridcolor": "white",
             "linecolor": "white",
             "minorgridcolor": "white",
             "startlinecolor": "#2a3f5f"
            },
            "type": "carpet"
           }
          ],
          "choropleth": [
           {
            "colorbar": {
             "outlinewidth": 0,
             "ticks": ""
            },
            "type": "choropleth"
           }
          ],
          "contour": [
           {
            "colorbar": {
             "outlinewidth": 0,
             "ticks": ""
            },
            "colorscale": [
             [
              0,
              "#0d0887"
             ],
             [
              0.1111111111111111,
              "#46039f"
             ],
             [
              0.2222222222222222,
              "#7201a8"
             ],
             [
              0.3333333333333333,
              "#9c179e"
             ],
             [
              0.4444444444444444,
              "#bd3786"
             ],
             [
              0.5555555555555556,
              "#d8576b"
             ],
             [
              0.6666666666666666,
              "#ed7953"
             ],
             [
              0.7777777777777778,
              "#fb9f3a"
             ],
             [
              0.8888888888888888,
              "#fdca26"
             ],
             [
              1,
              "#f0f921"
             ]
            ],
            "type": "contour"
           }
          ],
          "contourcarpet": [
           {
            "colorbar": {
             "outlinewidth": 0,
             "ticks": ""
            },
            "type": "contourcarpet"
           }
          ],
          "heatmap": [
           {
            "colorbar": {
             "outlinewidth": 0,
             "ticks": ""
            },
            "colorscale": [
             [
              0,
              "#0d0887"
             ],
             [
              0.1111111111111111,
              "#46039f"
             ],
             [
              0.2222222222222222,
              "#7201a8"
             ],
             [
              0.3333333333333333,
              "#9c179e"
             ],
             [
              0.4444444444444444,
              "#bd3786"
             ],
             [
              0.5555555555555556,
              "#d8576b"
             ],
             [
              0.6666666666666666,
              "#ed7953"
             ],
             [
              0.7777777777777778,
              "#fb9f3a"
             ],
             [
              0.8888888888888888,
              "#fdca26"
             ],
             [
              1,
              "#f0f921"
             ]
            ],
            "type": "heatmap"
           }
          ],
          "heatmapgl": [
           {
            "colorbar": {
             "outlinewidth": 0,
             "ticks": ""
            },
            "colorscale": [
             [
              0,
              "#0d0887"
             ],
             [
              0.1111111111111111,
              "#46039f"
             ],
             [
              0.2222222222222222,
              "#7201a8"
             ],
             [
              0.3333333333333333,
              "#9c179e"
             ],
             [
              0.4444444444444444,
              "#bd3786"
             ],
             [
              0.5555555555555556,
              "#d8576b"
             ],
             [
              0.6666666666666666,
              "#ed7953"
             ],
             [
              0.7777777777777778,
              "#fb9f3a"
             ],
             [
              0.8888888888888888,
              "#fdca26"
             ],
             [
              1,
              "#f0f921"
             ]
            ],
            "type": "heatmapgl"
           }
          ],
          "histogram": [
           {
            "marker": {
             "pattern": {
              "fillmode": "overlay",
              "size": 10,
              "solidity": 0.2
             }
            },
            "type": "histogram"
           }
          ],
          "histogram2d": [
           {
            "colorbar": {
             "outlinewidth": 0,
             "ticks": ""
            },
            "colorscale": [
             [
              0,
              "#0d0887"
             ],
             [
              0.1111111111111111,
              "#46039f"
             ],
             [
              0.2222222222222222,
              "#7201a8"
             ],
             [
              0.3333333333333333,
              "#9c179e"
             ],
             [
              0.4444444444444444,
              "#bd3786"
             ],
             [
              0.5555555555555556,
              "#d8576b"
             ],
             [
              0.6666666666666666,
              "#ed7953"
             ],
             [
              0.7777777777777778,
              "#fb9f3a"
             ],
             [
              0.8888888888888888,
              "#fdca26"
             ],
             [
              1,
              "#f0f921"
             ]
            ],
            "type": "histogram2d"
           }
          ],
          "histogram2dcontour": [
           {
            "colorbar": {
             "outlinewidth": 0,
             "ticks": ""
            },
            "colorscale": [
             [
              0,
              "#0d0887"
             ],
             [
              0.1111111111111111,
              "#46039f"
             ],
             [
              0.2222222222222222,
              "#7201a8"
             ],
             [
              0.3333333333333333,
              "#9c179e"
             ],
             [
              0.4444444444444444,
              "#bd3786"
             ],
             [
              0.5555555555555556,
              "#d8576b"
             ],
             [
              0.6666666666666666,
              "#ed7953"
             ],
             [
              0.7777777777777778,
              "#fb9f3a"
             ],
             [
              0.8888888888888888,
              "#fdca26"
             ],
             [
              1,
              "#f0f921"
             ]
            ],
            "type": "histogram2dcontour"
           }
          ],
          "mesh3d": [
           {
            "colorbar": {
             "outlinewidth": 0,
             "ticks": ""
            },
            "type": "mesh3d"
           }
          ],
          "parcoords": [
           {
            "line": {
             "colorbar": {
              "outlinewidth": 0,
              "ticks": ""
             }
            },
            "type": "parcoords"
           }
          ],
          "pie": [
           {
            "automargin": true,
            "type": "pie"
           }
          ],
          "scatter": [
           {
            "fillpattern": {
             "fillmode": "overlay",
             "size": 10,
             "solidity": 0.2
            },
            "type": "scatter"
           }
          ],
          "scatter3d": [
           {
            "line": {
             "colorbar": {
              "outlinewidth": 0,
              "ticks": ""
             }
            },
            "marker": {
             "colorbar": {
              "outlinewidth": 0,
              "ticks": ""
             }
            },
            "type": "scatter3d"
           }
          ],
          "scattercarpet": [
           {
            "marker": {
             "colorbar": {
              "outlinewidth": 0,
              "ticks": ""
             }
            },
            "type": "scattercarpet"
           }
          ],
          "scattergeo": [
           {
            "marker": {
             "colorbar": {
              "outlinewidth": 0,
              "ticks": ""
             }
            },
            "type": "scattergeo"
           }
          ],
          "scattergl": [
           {
            "marker": {
             "colorbar": {
              "outlinewidth": 0,
              "ticks": ""
             }
            },
            "type": "scattergl"
           }
          ],
          "scattermapbox": [
           {
            "marker": {
             "colorbar": {
              "outlinewidth": 0,
              "ticks": ""
             }
            },
            "type": "scattermapbox"
           }
          ],
          "scatterpolar": [
           {
            "marker": {
             "colorbar": {
              "outlinewidth": 0,
              "ticks": ""
             }
            },
            "type": "scatterpolar"
           }
          ],
          "scatterpolargl": [
           {
            "marker": {
             "colorbar": {
              "outlinewidth": 0,
              "ticks": ""
             }
            },
            "type": "scatterpolargl"
           }
          ],
          "scatterternary": [
           {
            "marker": {
             "colorbar": {
              "outlinewidth": 0,
              "ticks": ""
             }
            },
            "type": "scatterternary"
           }
          ],
          "surface": [
           {
            "colorbar": {
             "outlinewidth": 0,
             "ticks": ""
            },
            "colorscale": [
             [
              0,
              "#0d0887"
             ],
             [
              0.1111111111111111,
              "#46039f"
             ],
             [
              0.2222222222222222,
              "#7201a8"
             ],
             [
              0.3333333333333333,
              "#9c179e"
             ],
             [
              0.4444444444444444,
              "#bd3786"
             ],
             [
              0.5555555555555556,
              "#d8576b"
             ],
             [
              0.6666666666666666,
              "#ed7953"
             ],
             [
              0.7777777777777778,
              "#fb9f3a"
             ],
             [
              0.8888888888888888,
              "#fdca26"
             ],
             [
              1,
              "#f0f921"
             ]
            ],
            "type": "surface"
           }
          ],
          "table": [
           {
            "cells": {
             "fill": {
              "color": "#EBF0F8"
             },
             "line": {
              "color": "white"
             }
            },
            "header": {
             "fill": {
              "color": "#C8D4E3"
             },
             "line": {
              "color": "white"
             }
            },
            "type": "table"
           }
          ]
         },
         "layout": {
          "annotationdefaults": {
           "arrowcolor": "#2a3f5f",
           "arrowhead": 0,
           "arrowwidth": 1
          },
          "autotypenumbers": "strict",
          "coloraxis": {
           "colorbar": {
            "outlinewidth": 0,
            "ticks": ""
           }
          },
          "colorscale": {
           "diverging": [
            [
             0,
             "#8e0152"
            ],
            [
             0.1,
             "#c51b7d"
            ],
            [
             0.2,
             "#de77ae"
            ],
            [
             0.3,
             "#f1b6da"
            ],
            [
             0.4,
             "#fde0ef"
            ],
            [
             0.5,
             "#f7f7f7"
            ],
            [
             0.6,
             "#e6f5d0"
            ],
            [
             0.7,
             "#b8e186"
            ],
            [
             0.8,
             "#7fbc41"
            ],
            [
             0.9,
             "#4d9221"
            ],
            [
             1,
             "#276419"
            ]
           ],
           "sequential": [
            [
             0,
             "#0d0887"
            ],
            [
             0.1111111111111111,
             "#46039f"
            ],
            [
             0.2222222222222222,
             "#7201a8"
            ],
            [
             0.3333333333333333,
             "#9c179e"
            ],
            [
             0.4444444444444444,
             "#bd3786"
            ],
            [
             0.5555555555555556,
             "#d8576b"
            ],
            [
             0.6666666666666666,
             "#ed7953"
            ],
            [
             0.7777777777777778,
             "#fb9f3a"
            ],
            [
             0.8888888888888888,
             "#fdca26"
            ],
            [
             1,
             "#f0f921"
            ]
           ],
           "sequentialminus": [
            [
             0,
             "#0d0887"
            ],
            [
             0.1111111111111111,
             "#46039f"
            ],
            [
             0.2222222222222222,
             "#7201a8"
            ],
            [
             0.3333333333333333,
             "#9c179e"
            ],
            [
             0.4444444444444444,
             "#bd3786"
            ],
            [
             0.5555555555555556,
             "#d8576b"
            ],
            [
             0.6666666666666666,
             "#ed7953"
            ],
            [
             0.7777777777777778,
             "#fb9f3a"
            ],
            [
             0.8888888888888888,
             "#fdca26"
            ],
            [
             1,
             "#f0f921"
            ]
           ]
          },
          "colorway": [
           "#636efa",
           "#EF553B",
           "#00cc96",
           "#ab63fa",
           "#FFA15A",
           "#19d3f3",
           "#FF6692",
           "#B6E880",
           "#FF97FF",
           "#FECB52"
          ],
          "font": {
           "color": "#2a3f5f"
          },
          "geo": {
           "bgcolor": "white",
           "lakecolor": "white",
           "landcolor": "#E5ECF6",
           "showlakes": true,
           "showland": true,
           "subunitcolor": "white"
          },
          "hoverlabel": {
           "align": "left"
          },
          "hovermode": "closest",
          "mapbox": {
           "style": "light"
          },
          "paper_bgcolor": "white",
          "plot_bgcolor": "#E5ECF6",
          "polar": {
           "angularaxis": {
            "gridcolor": "white",
            "linecolor": "white",
            "ticks": ""
           },
           "bgcolor": "#E5ECF6",
           "radialaxis": {
            "gridcolor": "white",
            "linecolor": "white",
            "ticks": ""
           }
          },
          "scene": {
           "xaxis": {
            "backgroundcolor": "#E5ECF6",
            "gridcolor": "white",
            "gridwidth": 2,
            "linecolor": "white",
            "showbackground": true,
            "ticks": "",
            "zerolinecolor": "white"
           },
           "yaxis": {
            "backgroundcolor": "#E5ECF6",
            "gridcolor": "white",
            "gridwidth": 2,
            "linecolor": "white",
            "showbackground": true,
            "ticks": "",
            "zerolinecolor": "white"
           },
           "zaxis": {
            "backgroundcolor": "#E5ECF6",
            "gridcolor": "white",
            "gridwidth": 2,
            "linecolor": "white",
            "showbackground": true,
            "ticks": "",
            "zerolinecolor": "white"
           }
          },
          "shapedefaults": {
           "line": {
            "color": "#2a3f5f"
           }
          },
          "ternary": {
           "aaxis": {
            "gridcolor": "white",
            "linecolor": "white",
            "ticks": ""
           },
           "baxis": {
            "gridcolor": "white",
            "linecolor": "white",
            "ticks": ""
           },
           "bgcolor": "#E5ECF6",
           "caxis": {
            "gridcolor": "white",
            "linecolor": "white",
            "ticks": ""
           }
          },
          "title": {
           "x": 0.05
          },
          "xaxis": {
           "automargin": true,
           "gridcolor": "white",
           "linecolor": "white",
           "ticks": "",
           "title": {
            "standoff": 15
           },
           "zerolinecolor": "white",
           "zerolinewidth": 2
          },
          "yaxis": {
           "automargin": true,
           "gridcolor": "white",
           "linecolor": "white",
           "ticks": "",
           "title": {
            "standoff": 15
           },
           "zerolinecolor": "white",
           "zerolinewidth": 2
          }
         }
        },
        "title": {
         "text": "Search words occurency frequency",
         "x": 0.5
        },
        "xaxis": {
         "anchor": "y",
         "domain": [
          0,
          1
         ],
         "title": {
          "text": "Occurency frequency"
         }
        },
        "yaxis": {
         "anchor": "x",
         "categoryorder": "total ascending",
         "domain": [
          0,
          1
         ],
         "title": {
          "text": "Search word"
         }
        }
       }
      }
     },
     "metadata": {},
     "output_type": "display_data"
    }
   ],
   "source": [
    "#Import plotly and plot the occurences of search words in the tokenized word list. \n",
    "#Import matplotlib and plot the occurences of searchwords in the tokenized word list. \n",
    "#The maximum value of 30 words to plot is given\n",
    "import plotly.express as px\n",
    "import matplotlib.pyplot as plt\n",
    "\n",
    "topic_words = ['Resources','interest','rate','inflation','election,','corruption','drought','extreme temperatures'] # Add your topic words here\n",
    "\n",
    "fdist = FreqDist([word for words in df['body_token'].values.tolist() for word in words if word in topic_words])\n",
    "\n",
    "# Create pandas series to make plotting easier.Notice the tuples are converted to dict\n",
    "freqdist = pd.Series(dict(fdist))\n",
    "print(freqdist)\n",
    "\n",
    "fig = px.bar(y=freqdist.index, x=freqdist.values, \n",
    "                title=\"Search words occurency frequency\").update_layout(xaxis_title=\"Occurency frequency\", yaxis_title=\"Search word\")\n",
    "\n",
    "# Sort values in ascending order\n",
    "fig.update_layout(barmode='stack', yaxis={'categoryorder':'total ascending'})\n",
    "\n",
    "#Update the title of the graph to center\n",
    "fig.update_layout(title_text='Search words occurency frequency', title_x=0.5)\n",
    "\n",
    "# show plot\n",
    "fig.show()"
   ]
  },
  {
   "attachments": {},
   "cell_type": "markdown",
   "metadata": {},
   "source": [
    "## Plot the most common words in Plotly"
   ]
  },
  {
   "cell_type": "code",
   "execution_count": 1610,
   "metadata": {},
   "outputs": [
    {
     "name": "stdout",
     "output_type": "stream",
     "text": [
      "[('inflation', 916), ('interest', 470), ('policy', 224), ('economic', 203), ('market', 197), ('higher', 189), ('economy', 168), ('monetary', 160), ('turkey', 148), ('income', 148)]\n"
     ]
    }
   ],
   "source": [
    "# Obtain top 10 words from the frequency distribution and return as tuples\n",
    "top_10 = fd.most_common(10)\n",
    "print(top_10)\n",
    "\n",
    "# Create pandas series to make plotting easier.Notice the tuples are converted to dict\n",
    "fdist = pd.Series(dict(top_10))"
   ]
  },
  {
   "cell_type": "code",
   "execution_count": 1611,
   "metadata": {},
   "outputs": [
    {
     "data": {
      "application/vnd.plotly.v1+json": {
       "config": {
        "plotlyServerURL": "https://plot.ly"
       },
       "data": [
        {
         "alignmentgroup": "True",
         "hovertemplate": "x=%{x}<br>y=%{y}<extra></extra>",
         "legendgroup": "",
         "marker": {
          "color": "#636efa",
          "pattern": {
           "shape": ""
          }
         },
         "name": "",
         "offsetgroup": "",
         "orientation": "h",
         "showlegend": false,
         "textposition": "auto",
         "type": "bar",
         "x": [
          916,
          470,
          224,
          203,
          197,
          189,
          168,
          160,
          148,
          148
         ],
         "xaxis": "x",
         "y": [
          "inflation",
          "interest",
          "policy",
          "economic",
          "market",
          "higher",
          "economy",
          "monetary",
          "turkey",
          "income"
         ],
         "yaxis": "y"
        }
       ],
       "layout": {
        "barmode": "stack",
        "legend": {
         "tracegroupgap": 0
        },
        "margin": {
         "t": 60
        },
        "template": {
         "data": {
          "bar": [
           {
            "error_x": {
             "color": "#2a3f5f"
            },
            "error_y": {
             "color": "#2a3f5f"
            },
            "marker": {
             "line": {
              "color": "#E5ECF6",
              "width": 0.5
             },
             "pattern": {
              "fillmode": "overlay",
              "size": 10,
              "solidity": 0.2
             }
            },
            "type": "bar"
           }
          ],
          "barpolar": [
           {
            "marker": {
             "line": {
              "color": "#E5ECF6",
              "width": 0.5
             },
             "pattern": {
              "fillmode": "overlay",
              "size": 10,
              "solidity": 0.2
             }
            },
            "type": "barpolar"
           }
          ],
          "carpet": [
           {
            "aaxis": {
             "endlinecolor": "#2a3f5f",
             "gridcolor": "white",
             "linecolor": "white",
             "minorgridcolor": "white",
             "startlinecolor": "#2a3f5f"
            },
            "baxis": {
             "endlinecolor": "#2a3f5f",
             "gridcolor": "white",
             "linecolor": "white",
             "minorgridcolor": "white",
             "startlinecolor": "#2a3f5f"
            },
            "type": "carpet"
           }
          ],
          "choropleth": [
           {
            "colorbar": {
             "outlinewidth": 0,
             "ticks": ""
            },
            "type": "choropleth"
           }
          ],
          "contour": [
           {
            "colorbar": {
             "outlinewidth": 0,
             "ticks": ""
            },
            "colorscale": [
             [
              0,
              "#0d0887"
             ],
             [
              0.1111111111111111,
              "#46039f"
             ],
             [
              0.2222222222222222,
              "#7201a8"
             ],
             [
              0.3333333333333333,
              "#9c179e"
             ],
             [
              0.4444444444444444,
              "#bd3786"
             ],
             [
              0.5555555555555556,
              "#d8576b"
             ],
             [
              0.6666666666666666,
              "#ed7953"
             ],
             [
              0.7777777777777778,
              "#fb9f3a"
             ],
             [
              0.8888888888888888,
              "#fdca26"
             ],
             [
              1,
              "#f0f921"
             ]
            ],
            "type": "contour"
           }
          ],
          "contourcarpet": [
           {
            "colorbar": {
             "outlinewidth": 0,
             "ticks": ""
            },
            "type": "contourcarpet"
           }
          ],
          "heatmap": [
           {
            "colorbar": {
             "outlinewidth": 0,
             "ticks": ""
            },
            "colorscale": [
             [
              0,
              "#0d0887"
             ],
             [
              0.1111111111111111,
              "#46039f"
             ],
             [
              0.2222222222222222,
              "#7201a8"
             ],
             [
              0.3333333333333333,
              "#9c179e"
             ],
             [
              0.4444444444444444,
              "#bd3786"
             ],
             [
              0.5555555555555556,
              "#d8576b"
             ],
             [
              0.6666666666666666,
              "#ed7953"
             ],
             [
              0.7777777777777778,
              "#fb9f3a"
             ],
             [
              0.8888888888888888,
              "#fdca26"
             ],
             [
              1,
              "#f0f921"
             ]
            ],
            "type": "heatmap"
           }
          ],
          "heatmapgl": [
           {
            "colorbar": {
             "outlinewidth": 0,
             "ticks": ""
            },
            "colorscale": [
             [
              0,
              "#0d0887"
             ],
             [
              0.1111111111111111,
              "#46039f"
             ],
             [
              0.2222222222222222,
              "#7201a8"
             ],
             [
              0.3333333333333333,
              "#9c179e"
             ],
             [
              0.4444444444444444,
              "#bd3786"
             ],
             [
              0.5555555555555556,
              "#d8576b"
             ],
             [
              0.6666666666666666,
              "#ed7953"
             ],
             [
              0.7777777777777778,
              "#fb9f3a"
             ],
             [
              0.8888888888888888,
              "#fdca26"
             ],
             [
              1,
              "#f0f921"
             ]
            ],
            "type": "heatmapgl"
           }
          ],
          "histogram": [
           {
            "marker": {
             "pattern": {
              "fillmode": "overlay",
              "size": 10,
              "solidity": 0.2
             }
            },
            "type": "histogram"
           }
          ],
          "histogram2d": [
           {
            "colorbar": {
             "outlinewidth": 0,
             "ticks": ""
            },
            "colorscale": [
             [
              0,
              "#0d0887"
             ],
             [
              0.1111111111111111,
              "#46039f"
             ],
             [
              0.2222222222222222,
              "#7201a8"
             ],
             [
              0.3333333333333333,
              "#9c179e"
             ],
             [
              0.4444444444444444,
              "#bd3786"
             ],
             [
              0.5555555555555556,
              "#d8576b"
             ],
             [
              0.6666666666666666,
              "#ed7953"
             ],
             [
              0.7777777777777778,
              "#fb9f3a"
             ],
             [
              0.8888888888888888,
              "#fdca26"
             ],
             [
              1,
              "#f0f921"
             ]
            ],
            "type": "histogram2d"
           }
          ],
          "histogram2dcontour": [
           {
            "colorbar": {
             "outlinewidth": 0,
             "ticks": ""
            },
            "colorscale": [
             [
              0,
              "#0d0887"
             ],
             [
              0.1111111111111111,
              "#46039f"
             ],
             [
              0.2222222222222222,
              "#7201a8"
             ],
             [
              0.3333333333333333,
              "#9c179e"
             ],
             [
              0.4444444444444444,
              "#bd3786"
             ],
             [
              0.5555555555555556,
              "#d8576b"
             ],
             [
              0.6666666666666666,
              "#ed7953"
             ],
             [
              0.7777777777777778,
              "#fb9f3a"
             ],
             [
              0.8888888888888888,
              "#fdca26"
             ],
             [
              1,
              "#f0f921"
             ]
            ],
            "type": "histogram2dcontour"
           }
          ],
          "mesh3d": [
           {
            "colorbar": {
             "outlinewidth": 0,
             "ticks": ""
            },
            "type": "mesh3d"
           }
          ],
          "parcoords": [
           {
            "line": {
             "colorbar": {
              "outlinewidth": 0,
              "ticks": ""
             }
            },
            "type": "parcoords"
           }
          ],
          "pie": [
           {
            "automargin": true,
            "type": "pie"
           }
          ],
          "scatter": [
           {
            "fillpattern": {
             "fillmode": "overlay",
             "size": 10,
             "solidity": 0.2
            },
            "type": "scatter"
           }
          ],
          "scatter3d": [
           {
            "line": {
             "colorbar": {
              "outlinewidth": 0,
              "ticks": ""
             }
            },
            "marker": {
             "colorbar": {
              "outlinewidth": 0,
              "ticks": ""
             }
            },
            "type": "scatter3d"
           }
          ],
          "scattercarpet": [
           {
            "marker": {
             "colorbar": {
              "outlinewidth": 0,
              "ticks": ""
             }
            },
            "type": "scattercarpet"
           }
          ],
          "scattergeo": [
           {
            "marker": {
             "colorbar": {
              "outlinewidth": 0,
              "ticks": ""
             }
            },
            "type": "scattergeo"
           }
          ],
          "scattergl": [
           {
            "marker": {
             "colorbar": {
              "outlinewidth": 0,
              "ticks": ""
             }
            },
            "type": "scattergl"
           }
          ],
          "scattermapbox": [
           {
            "marker": {
             "colorbar": {
              "outlinewidth": 0,
              "ticks": ""
             }
            },
            "type": "scattermapbox"
           }
          ],
          "scatterpolar": [
           {
            "marker": {
             "colorbar": {
              "outlinewidth": 0,
              "ticks": ""
             }
            },
            "type": "scatterpolar"
           }
          ],
          "scatterpolargl": [
           {
            "marker": {
             "colorbar": {
              "outlinewidth": 0,
              "ticks": ""
             }
            },
            "type": "scatterpolargl"
           }
          ],
          "scatterternary": [
           {
            "marker": {
             "colorbar": {
              "outlinewidth": 0,
              "ticks": ""
             }
            },
            "type": "scatterternary"
           }
          ],
          "surface": [
           {
            "colorbar": {
             "outlinewidth": 0,
             "ticks": ""
            },
            "colorscale": [
             [
              0,
              "#0d0887"
             ],
             [
              0.1111111111111111,
              "#46039f"
             ],
             [
              0.2222222222222222,
              "#7201a8"
             ],
             [
              0.3333333333333333,
              "#9c179e"
             ],
             [
              0.4444444444444444,
              "#bd3786"
             ],
             [
              0.5555555555555556,
              "#d8576b"
             ],
             [
              0.6666666666666666,
              "#ed7953"
             ],
             [
              0.7777777777777778,
              "#fb9f3a"
             ],
             [
              0.8888888888888888,
              "#fdca26"
             ],
             [
              1,
              "#f0f921"
             ]
            ],
            "type": "surface"
           }
          ],
          "table": [
           {
            "cells": {
             "fill": {
              "color": "#EBF0F8"
             },
             "line": {
              "color": "white"
             }
            },
            "header": {
             "fill": {
              "color": "#C8D4E3"
             },
             "line": {
              "color": "white"
             }
            },
            "type": "table"
           }
          ]
         },
         "layout": {
          "annotationdefaults": {
           "arrowcolor": "#2a3f5f",
           "arrowhead": 0,
           "arrowwidth": 1
          },
          "autotypenumbers": "strict",
          "coloraxis": {
           "colorbar": {
            "outlinewidth": 0,
            "ticks": ""
           }
          },
          "colorscale": {
           "diverging": [
            [
             0,
             "#8e0152"
            ],
            [
             0.1,
             "#c51b7d"
            ],
            [
             0.2,
             "#de77ae"
            ],
            [
             0.3,
             "#f1b6da"
            ],
            [
             0.4,
             "#fde0ef"
            ],
            [
             0.5,
             "#f7f7f7"
            ],
            [
             0.6,
             "#e6f5d0"
            ],
            [
             0.7,
             "#b8e186"
            ],
            [
             0.8,
             "#7fbc41"
            ],
            [
             0.9,
             "#4d9221"
            ],
            [
             1,
             "#276419"
            ]
           ],
           "sequential": [
            [
             0,
             "#0d0887"
            ],
            [
             0.1111111111111111,
             "#46039f"
            ],
            [
             0.2222222222222222,
             "#7201a8"
            ],
            [
             0.3333333333333333,
             "#9c179e"
            ],
            [
             0.4444444444444444,
             "#bd3786"
            ],
            [
             0.5555555555555556,
             "#d8576b"
            ],
            [
             0.6666666666666666,
             "#ed7953"
            ],
            [
             0.7777777777777778,
             "#fb9f3a"
            ],
            [
             0.8888888888888888,
             "#fdca26"
            ],
            [
             1,
             "#f0f921"
            ]
           ],
           "sequentialminus": [
            [
             0,
             "#0d0887"
            ],
            [
             0.1111111111111111,
             "#46039f"
            ],
            [
             0.2222222222222222,
             "#7201a8"
            ],
            [
             0.3333333333333333,
             "#9c179e"
            ],
            [
             0.4444444444444444,
             "#bd3786"
            ],
            [
             0.5555555555555556,
             "#d8576b"
            ],
            [
             0.6666666666666666,
             "#ed7953"
            ],
            [
             0.7777777777777778,
             "#fb9f3a"
            ],
            [
             0.8888888888888888,
             "#fdca26"
            ],
            [
             1,
             "#f0f921"
            ]
           ]
          },
          "colorway": [
           "#636efa",
           "#EF553B",
           "#00cc96",
           "#ab63fa",
           "#FFA15A",
           "#19d3f3",
           "#FF6692",
           "#B6E880",
           "#FF97FF",
           "#FECB52"
          ],
          "font": {
           "color": "#2a3f5f"
          },
          "geo": {
           "bgcolor": "white",
           "lakecolor": "white",
           "landcolor": "#E5ECF6",
           "showlakes": true,
           "showland": true,
           "subunitcolor": "white"
          },
          "hoverlabel": {
           "align": "left"
          },
          "hovermode": "closest",
          "mapbox": {
           "style": "light"
          },
          "paper_bgcolor": "white",
          "plot_bgcolor": "#E5ECF6",
          "polar": {
           "angularaxis": {
            "gridcolor": "white",
            "linecolor": "white",
            "ticks": ""
           },
           "bgcolor": "#E5ECF6",
           "radialaxis": {
            "gridcolor": "white",
            "linecolor": "white",
            "ticks": ""
           }
          },
          "scene": {
           "xaxis": {
            "backgroundcolor": "#E5ECF6",
            "gridcolor": "white",
            "gridwidth": 2,
            "linecolor": "white",
            "showbackground": true,
            "ticks": "",
            "zerolinecolor": "white"
           },
           "yaxis": {
            "backgroundcolor": "#E5ECF6",
            "gridcolor": "white",
            "gridwidth": 2,
            "linecolor": "white",
            "showbackground": true,
            "ticks": "",
            "zerolinecolor": "white"
           },
           "zaxis": {
            "backgroundcolor": "#E5ECF6",
            "gridcolor": "white",
            "gridwidth": 2,
            "linecolor": "white",
            "showbackground": true,
            "ticks": "",
            "zerolinecolor": "white"
           }
          },
          "shapedefaults": {
           "line": {
            "color": "#2a3f5f"
           }
          },
          "ternary": {
           "aaxis": {
            "gridcolor": "white",
            "linecolor": "white",
            "ticks": ""
           },
           "baxis": {
            "gridcolor": "white",
            "linecolor": "white",
            "ticks": ""
           },
           "bgcolor": "#E5ECF6",
           "caxis": {
            "gridcolor": "white",
            "linecolor": "white",
            "ticks": ""
           }
          },
          "title": {
           "x": 0.05
          },
          "xaxis": {
           "automargin": true,
           "gridcolor": "white",
           "linecolor": "white",
           "ticks": "",
           "title": {
            "standoff": 15
           },
           "zerolinecolor": "white",
           "zerolinewidth": 2
          },
          "yaxis": {
           "automargin": true,
           "gridcolor": "white",
           "linecolor": "white",
           "ticks": "",
           "title": {
            "standoff": 15
           },
           "zerolinecolor": "white",
           "zerolinewidth": 2
          }
         }
        },
        "xaxis": {
         "anchor": "y",
         "domain": [
          0,
          1
         ],
         "title": {
          "text": "x"
         }
        },
        "yaxis": {
         "anchor": "x",
         "categoryorder": "total ascending",
         "domain": [
          0,
          1
         ],
         "title": {
          "text": "y"
         }
        }
       }
      }
     },
     "metadata": {},
     "output_type": "display_data"
    }
   ],
   "source": [
    "# Plot most frequent words in the articles\n",
    "#Show frequency of a specific word e.g inflation\n",
    "fd[\"inflation\"]\n",
    "\n",
    "fig = px.bar(y=fdist.index, x=fdist.values)\n",
    "\n",
    "# sort values in ascending order\n",
    "fig.update_layout(barmode='stack', yaxis={'categoryorder':'total ascending'})\n",
    "\n",
    "# show plot\n",
    "fig.show()\n",
    "\n"
   ]
  },
  {
   "attachments": {},
   "cell_type": "markdown",
   "metadata": {},
   "source": [
    "## Sentiment analysis using VADER"
   ]
  },
  {
   "cell_type": "code",
   "execution_count": 1612,
   "metadata": {},
   "outputs": [
    {
     "name": "stderr",
     "output_type": "stream",
     "text": [
      "[nltk_data] Downloading package vader_lexicon to\n",
      "[nltk_data]     C:\\Users\\Benjamin\\AppData\\Roaming\\nltk_data...\n",
      "[nltk_data]   Package vader_lexicon is already up-to-date!\n"
     ]
    },
    {
     "data": {
      "text/plain": [
       "True"
      ]
     },
     "execution_count": 1612,
     "metadata": {},
     "output_type": "execute_result"
    }
   ],
   "source": [
    "# NLTK provides a simple rule-based model for general sentiment analysis called VADER, which stands for “Valence Aware Dictionary and Sentiment Reasoner” (Hutto & Gilbert, 2014).\n",
    "nltk.download('vader_lexicon')"
   ]
  },
  {
   "cell_type": "code",
   "execution_count": 1613,
   "metadata": {},
   "outputs": [],
   "source": [
    "from nltk.sentiment import SentimentIntensityAnalyzer\n",
    "\n",
    "# Initialize an object of SentimentIntensityAnalyzer with name “analyzer”\n",
    "analyzer = SentimentIntensityAnalyzer()"
   ]
  },
  {
   "cell_type": "code",
   "execution_count": 1614,
   "metadata": {},
   "outputs": [
    {
     "data": {
      "text/html": [
       "<div>\n",
       "<style scoped>\n",
       "    .dataframe tbody tr th:only-of-type {\n",
       "        vertical-align: middle;\n",
       "    }\n",
       "\n",
       "    .dataframe tbody tr th {\n",
       "        vertical-align: top;\n",
       "    }\n",
       "\n",
       "    .dataframe thead th {\n",
       "        text-align: right;\n",
       "    }\n",
       "</style>\n",
       "<table border=\"1\" class=\"dataframe\">\n",
       "  <thead>\n",
       "    <tr style=\"text-align: right;\">\n",
       "      <th></th>\n",
       "      <th>topic</th>\n",
       "      <th>body</th>\n",
       "      <th>body_token</th>\n",
       "      <th>body_string</th>\n",
       "      <th>body_string_fdist</th>\n",
       "      <th>body_string_lem</th>\n",
       "      <th>is_equal</th>\n",
       "      <th>polarity</th>\n",
       "    </tr>\n",
       "  </thead>\n",
       "  <tbody>\n",
       "    <tr>\n",
       "      <th>150</th>\n",
       "      <td>Interest rate</td>\n",
       "      <td>president bidenelection coveragecongresssuprem...</td>\n",
       "      <td>[president, bidenelection, coveragecongresssup...</td>\n",
       "      <td>president bidenelection coveragecongresssuprem...</td>\n",
       "      <td>president campaign gmtwashington president aro...</td>\n",
       "      <td>president campaign gmtwashington president aro...</td>\n",
       "      <td>True</td>\n",
       "      <td>{'neg': 0.112, 'neu': 0.774, 'pos': 0.114, 'co...</td>\n",
       "    </tr>\n",
       "    <tr>\n",
       "      <th>153</th>\n",
       "      <td>Interest rate</td>\n",
       "      <td>u.s. economyfinancial marketscautious but stea...</td>\n",
       "      <td>[economyfinancial, marketscautious, steady, co...</td>\n",
       "      <td>economyfinancial marketscautious steady consum...</td>\n",
       "      <td>steady consumers gmtwashington consumer inflat...</td>\n",
       "      <td>steady consumers gmtwashington consumer inflat...</td>\n",
       "      <td>True</td>\n",
       "      <td>{'neg': 0.086, 'neu': 0.692, 'pos': 0.221, 'co...</td>\n",
       "    </tr>\n",
       "    <tr>\n",
       "      <th>163</th>\n",
       "      <td>Interest rate</td>\n",
       "      <td>key developments in the aftermath of the turke...</td>\n",
       "      <td>[key, developments, aftermath, turkey, syria, ...</td>\n",
       "      <td>developments aftermath turkey quakeby fraserfe...</td>\n",
       "      <td>developments aftermath turkey fraserfebruary t...</td>\n",
       "      <td>developments aftermath turkey fraserfebruary t...</td>\n",
       "      <td>True</td>\n",
       "      <td>{'neg': 0.198, 'neu': 0.701, 'pos': 0.102, 'co...</td>\n",
       "    </tr>\n",
       "  </tbody>\n",
       "</table>\n",
       "</div>"
      ],
      "text/plain": [
       "             topic                                               body  \\\n",
       "150  Interest rate  president bidenelection coveragecongresssuprem...   \n",
       "153  Interest rate  u.s. economyfinancial marketscautious but stea...   \n",
       "163  Interest rate  key developments in the aftermath of the turke...   \n",
       "\n",
       "                                            body_token  \\\n",
       "150  [president, bidenelection, coveragecongresssup...   \n",
       "153  [economyfinancial, marketscautious, steady, co...   \n",
       "163  [key, developments, aftermath, turkey, syria, ...   \n",
       "\n",
       "                                           body_string  \\\n",
       "150  president bidenelection coveragecongresssuprem...   \n",
       "153  economyfinancial marketscautious steady consum...   \n",
       "163  developments aftermath turkey quakeby fraserfe...   \n",
       "\n",
       "                                     body_string_fdist  \\\n",
       "150  president campaign gmtwashington president aro...   \n",
       "153  steady consumers gmtwashington consumer inflat...   \n",
       "163  developments aftermath turkey fraserfebruary t...   \n",
       "\n",
       "                                       body_string_lem  is_equal  \\\n",
       "150  president campaign gmtwashington president aro...      True   \n",
       "153  steady consumers gmtwashington consumer inflat...      True   \n",
       "163  developments aftermath turkey fraserfebruary t...      True   \n",
       "\n",
       "                                              polarity  \n",
       "150  {'neg': 0.112, 'neu': 0.774, 'pos': 0.114, 'co...  \n",
       "153  {'neg': 0.086, 'neu': 0.692, 'pos': 0.221, 'co...  \n",
       "163  {'neg': 0.198, 'neu': 0.701, 'pos': 0.102, 'co...  "
      ]
     },
     "execution_count": 1614,
     "metadata": {},
     "output_type": "execute_result"
    }
   ],
   "source": [
    "# Polarity scores is a float within the range [-1.0, 1.0].\n",
    "# Polarity of a text is summarised from the polarity of individual words(positive,negative,neutral).\n",
    "# Polarity score is given for the lemmatized text\n",
    "df['polarity'] = df['body_string_lem'].apply(lambda x: analyzer.polarity_scores(x))\n",
    "df.tail(3)"
   ]
  },
  {
   "cell_type": "code",
   "execution_count": 1615,
   "metadata": {},
   "outputs": [
    {
     "data": {
      "text/html": [
       "<div>\n",
       "<style scoped>\n",
       "    .dataframe tbody tr th:only-of-type {\n",
       "        vertical-align: middle;\n",
       "    }\n",
       "\n",
       "    .dataframe tbody tr th {\n",
       "        vertical-align: top;\n",
       "    }\n",
       "\n",
       "    .dataframe thead th {\n",
       "        text-align: right;\n",
       "    }\n",
       "</style>\n",
       "<table border=\"1\" class=\"dataframe\">\n",
       "  <thead>\n",
       "    <tr style=\"text-align: right;\">\n",
       "      <th></th>\n",
       "      <th>body</th>\n",
       "      <th>body_token</th>\n",
       "      <th>body_string</th>\n",
       "      <th>body_string_fdist</th>\n",
       "      <th>body_string_lem</th>\n",
       "      <th>is_equal</th>\n",
       "      <th>neg</th>\n",
       "      <th>neu</th>\n",
       "      <th>pos</th>\n",
       "      <th>compound</th>\n",
       "    </tr>\n",
       "  </thead>\n",
       "  <tbody>\n",
       "    <tr>\n",
       "      <th>14</th>\n",
       "      <td>when jair bolsonaro lost his bid for re-electi...</td>\n",
       "      <td>[jair, bolsonaro, lost, bid, october, said, no...</td>\n",
       "      <td>bolsonaro october nothing explicitly reject re...</td>\n",
       "      <td>bolsonaro october nothing result though either...</td>\n",
       "      <td>bolsonaro october nothing result though either...</td>\n",
       "      <td>True</td>\n",
       "      <td>0.045</td>\n",
       "      <td>0.762</td>\n",
       "      <td>0.193</td>\n",
       "      <td>0.9612</td>\n",
       "    </tr>\n",
       "    <tr>\n",
       "      <th>15</th>\n",
       "      <td>the last time voters in la goulette, a suburb ...</td>\n",
       "      <td>[last, time, voters, la, goulette, suburb, tun...</td>\n",
       "      <td>voters goulette suburb tunisian capital repres...</td>\n",
       "      <td>voters capital parliament parties candidates r...</td>\n",
       "      <td>voters capital parliament parties candidates r...</td>\n",
       "      <td>True</td>\n",
       "      <td>0.092</td>\n",
       "      <td>0.738</td>\n",
       "      <td>0.170</td>\n",
       "      <td>0.8781</td>\n",
       "    </tr>\n",
       "    <tr>\n",
       "      <th>16</th>\n",
       "      <td>for luiz inácio lula da silva, brazil’s leftis...</td>\n",
       "      <td>[luiz, inácio, lula, da, silva, brazil, leftis...</td>\n",
       "      <td>inácio brazil leftist former president disappo...</td>\n",
       "      <td>brazil former president result supporters majo...</td>\n",
       "      <td>brazil former president result supporters majo...</td>\n",
       "      <td>True</td>\n",
       "      <td>0.114</td>\n",
       "      <td>0.702</td>\n",
       "      <td>0.184</td>\n",
       "      <td>0.9176</td>\n",
       "    </tr>\n",
       "    <tr>\n",
       "      <th>17</th>\n",
       "      <td>despite its name, the palace of parliament in ...</td>\n",
       "      <td>[despite, name, palace, parliament, centre, bu...</td>\n",
       "      <td>despite palace parliament centre bucharest rom...</td>\n",
       "      <td>despite parliament capital democracy compariso...</td>\n",
       "      <td>despite parliament capital democracy compariso...</td>\n",
       "      <td>True</td>\n",
       "      <td>0.031</td>\n",
       "      <td>0.864</td>\n",
       "      <td>0.105</td>\n",
       "      <td>0.9646</td>\n",
       "    </tr>\n",
       "    <tr>\n",
       "      <th>18</th>\n",
       "      <td>on december 4th, eight days after honduras hel...</td>\n",
       "      <td>[december, eight, days, honduras, held, genera...</td>\n",
       "      <td>december honduras general elections country el...</td>\n",
       "      <td>december general elections country electoral c...</td>\n",
       "      <td>december general elections country electoral c...</td>\n",
       "      <td>True</td>\n",
       "      <td>0.064</td>\n",
       "      <td>0.841</td>\n",
       "      <td>0.095</td>\n",
       "      <td>0.3400</td>\n",
       "    </tr>\n",
       "  </tbody>\n",
       "</table>\n",
       "</div>"
      ],
      "text/plain": [
       "                                                 body  \\\n",
       "14  when jair bolsonaro lost his bid for re-electi...   \n",
       "15  the last time voters in la goulette, a suburb ...   \n",
       "16  for luiz inácio lula da silva, brazil’s leftis...   \n",
       "17  despite its name, the palace of parliament in ...   \n",
       "18  on december 4th, eight days after honduras hel...   \n",
       "\n",
       "                                           body_token  \\\n",
       "14  [jair, bolsonaro, lost, bid, october, said, no...   \n",
       "15  [last, time, voters, la, goulette, suburb, tun...   \n",
       "16  [luiz, inácio, lula, da, silva, brazil, leftis...   \n",
       "17  [despite, name, palace, parliament, centre, bu...   \n",
       "18  [december, eight, days, honduras, held, genera...   \n",
       "\n",
       "                                          body_string  \\\n",
       "14  bolsonaro october nothing explicitly reject re...   \n",
       "15  voters goulette suburb tunisian capital repres...   \n",
       "16  inácio brazil leftist former president disappo...   \n",
       "17  despite palace parliament centre bucharest rom...   \n",
       "18  december honduras general elections country el...   \n",
       "\n",
       "                                    body_string_fdist  \\\n",
       "14  bolsonaro october nothing result though either...   \n",
       "15  voters capital parliament parties candidates r...   \n",
       "16  brazil former president result supporters majo...   \n",
       "17  despite parliament capital democracy compariso...   \n",
       "18  december general elections country electoral c...   \n",
       "\n",
       "                                      body_string_lem  is_equal    neg    neu  \\\n",
       "14  bolsonaro october nothing result though either...      True  0.045  0.762   \n",
       "15  voters capital parliament parties candidates r...      True  0.092  0.738   \n",
       "16  brazil former president result supporters majo...      True  0.114  0.702   \n",
       "17  despite parliament capital democracy compariso...      True  0.031  0.864   \n",
       "18  december general elections country electoral c...      True  0.064  0.841   \n",
       "\n",
       "      pos  compound  \n",
       "14  0.193    0.9612  \n",
       "15  0.170    0.8781  \n",
       "16  0.184    0.9176  \n",
       "17  0.105    0.9646  \n",
       "18  0.095    0.3400  "
      ]
     },
     "execution_count": 1615,
     "metadata": {},
     "output_type": "execute_result"
    }
   ],
   "source": [
    "# Change data structure and drop topic and polarity columns and prepare for sentiment analysis\n",
    "df = pd.concat(\n",
    "    [df.drop([ 'topic', 'polarity'], axis=1), \n",
    "     df['polarity'].apply(pd.Series)], axis=1)\n",
    "df.head(5)"
   ]
  },
  {
   "cell_type": "code",
   "execution_count": 1616,
   "metadata": {},
   "outputs": [
    {
     "data": {
      "text/html": [
       "<div>\n",
       "<style scoped>\n",
       "    .dataframe tbody tr th:only-of-type {\n",
       "        vertical-align: middle;\n",
       "    }\n",
       "\n",
       "    .dataframe tbody tr th {\n",
       "        vertical-align: top;\n",
       "    }\n",
       "\n",
       "    .dataframe thead th {\n",
       "        text-align: right;\n",
       "    }\n",
       "</style>\n",
       "<table border=\"1\" class=\"dataframe\">\n",
       "  <thead>\n",
       "    <tr style=\"text-align: right;\">\n",
       "      <th></th>\n",
       "      <th>body</th>\n",
       "      <th>body_token</th>\n",
       "      <th>body_string</th>\n",
       "      <th>body_string_fdist</th>\n",
       "      <th>body_string_lem</th>\n",
       "      <th>is_equal</th>\n",
       "      <th>neg</th>\n",
       "      <th>neu</th>\n",
       "      <th>pos</th>\n",
       "      <th>compound</th>\n",
       "      <th>sentiment</th>\n",
       "    </tr>\n",
       "  </thead>\n",
       "  <tbody>\n",
       "    <tr>\n",
       "      <th>14</th>\n",
       "      <td>when jair bolsonaro lost his bid for re-electi...</td>\n",
       "      <td>[jair, bolsonaro, lost, bid, october, said, no...</td>\n",
       "      <td>bolsonaro october nothing explicitly reject re...</td>\n",
       "      <td>bolsonaro october nothing result though either...</td>\n",
       "      <td>bolsonaro october nothing result though either...</td>\n",
       "      <td>True</td>\n",
       "      <td>0.045</td>\n",
       "      <td>0.762</td>\n",
       "      <td>0.193</td>\n",
       "      <td>0.9612</td>\n",
       "      <td>positive</td>\n",
       "    </tr>\n",
       "    <tr>\n",
       "      <th>15</th>\n",
       "      <td>the last time voters in la goulette, a suburb ...</td>\n",
       "      <td>[last, time, voters, la, goulette, suburb, tun...</td>\n",
       "      <td>voters goulette suburb tunisian capital repres...</td>\n",
       "      <td>voters capital parliament parties candidates r...</td>\n",
       "      <td>voters capital parliament parties candidates r...</td>\n",
       "      <td>True</td>\n",
       "      <td>0.092</td>\n",
       "      <td>0.738</td>\n",
       "      <td>0.170</td>\n",
       "      <td>0.8781</td>\n",
       "      <td>positive</td>\n",
       "    </tr>\n",
       "    <tr>\n",
       "      <th>16</th>\n",
       "      <td>for luiz inácio lula da silva, brazil’s leftis...</td>\n",
       "      <td>[luiz, inácio, lula, da, silva, brazil, leftis...</td>\n",
       "      <td>inácio brazil leftist former president disappo...</td>\n",
       "      <td>brazil former president result supporters majo...</td>\n",
       "      <td>brazil former president result supporters majo...</td>\n",
       "      <td>True</td>\n",
       "      <td>0.114</td>\n",
       "      <td>0.702</td>\n",
       "      <td>0.184</td>\n",
       "      <td>0.9176</td>\n",
       "      <td>positive</td>\n",
       "    </tr>\n",
       "    <tr>\n",
       "      <th>17</th>\n",
       "      <td>despite its name, the palace of parliament in ...</td>\n",
       "      <td>[despite, name, palace, parliament, centre, bu...</td>\n",
       "      <td>despite palace parliament centre bucharest rom...</td>\n",
       "      <td>despite parliament capital democracy compariso...</td>\n",
       "      <td>despite parliament capital democracy compariso...</td>\n",
       "      <td>True</td>\n",
       "      <td>0.031</td>\n",
       "      <td>0.864</td>\n",
       "      <td>0.105</td>\n",
       "      <td>0.9646</td>\n",
       "      <td>positive</td>\n",
       "    </tr>\n",
       "    <tr>\n",
       "      <th>18</th>\n",
       "      <td>on december 4th, eight days after honduras hel...</td>\n",
       "      <td>[december, eight, days, honduras, held, genera...</td>\n",
       "      <td>december honduras general elections country el...</td>\n",
       "      <td>december general elections country electoral c...</td>\n",
       "      <td>december general elections country electoral c...</td>\n",
       "      <td>True</td>\n",
       "      <td>0.064</td>\n",
       "      <td>0.841</td>\n",
       "      <td>0.095</td>\n",
       "      <td>0.3400</td>\n",
       "      <td>positive</td>\n",
       "    </tr>\n",
       "  </tbody>\n",
       "</table>\n",
       "</div>"
      ],
      "text/plain": [
       "                                                 body  \\\n",
       "14  when jair bolsonaro lost his bid for re-electi...   \n",
       "15  the last time voters in la goulette, a suburb ...   \n",
       "16  for luiz inácio lula da silva, brazil’s leftis...   \n",
       "17  despite its name, the palace of parliament in ...   \n",
       "18  on december 4th, eight days after honduras hel...   \n",
       "\n",
       "                                           body_token  \\\n",
       "14  [jair, bolsonaro, lost, bid, october, said, no...   \n",
       "15  [last, time, voters, la, goulette, suburb, tun...   \n",
       "16  [luiz, inácio, lula, da, silva, brazil, leftis...   \n",
       "17  [despite, name, palace, parliament, centre, bu...   \n",
       "18  [december, eight, days, honduras, held, genera...   \n",
       "\n",
       "                                          body_string  \\\n",
       "14  bolsonaro october nothing explicitly reject re...   \n",
       "15  voters goulette suburb tunisian capital repres...   \n",
       "16  inácio brazil leftist former president disappo...   \n",
       "17  despite palace parliament centre bucharest rom...   \n",
       "18  december honduras general elections country el...   \n",
       "\n",
       "                                    body_string_fdist  \\\n",
       "14  bolsonaro october nothing result though either...   \n",
       "15  voters capital parliament parties candidates r...   \n",
       "16  brazil former president result supporters majo...   \n",
       "17  despite parliament capital democracy compariso...   \n",
       "18  december general elections country electoral c...   \n",
       "\n",
       "                                      body_string_lem  is_equal    neg    neu  \\\n",
       "14  bolsonaro october nothing result though either...      True  0.045  0.762   \n",
       "15  voters capital parliament parties candidates r...      True  0.092  0.738   \n",
       "16  brazil former president result supporters majo...      True  0.114  0.702   \n",
       "17  despite parliament capital democracy compariso...      True  0.031  0.864   \n",
       "18  december general elections country electoral c...      True  0.064  0.841   \n",
       "\n",
       "      pos  compound sentiment  \n",
       "14  0.193    0.9612  positive  \n",
       "15  0.170    0.8781  positive  \n",
       "16  0.184    0.9176  positive  \n",
       "17  0.105    0.9646  positive  \n",
       "18  0.095    0.3400  positive  "
      ]
     },
     "execution_count": 1616,
     "metadata": {},
     "output_type": "execute_result"
    }
   ],
   "source": [
    "# Create new variable with sentiment \"neutral,\" \"positive\" and \"negative\"\n",
    "df['sentiment'] = df['compound'].apply(lambda x: 'positive' if x >0 else 'neutral' if x==0 else 'negative')\n",
    "df.head(5)\n"
   ]
  },
  {
   "attachments": {},
   "cell_type": "markdown",
   "metadata": {},
   "source": [
    "## Visualize data"
   ]
  },
  {
   "cell_type": "code",
   "execution_count": 1617,
   "metadata": {},
   "outputs": [
    {
     "data": {
      "text/plain": [
       "<Axes: xlabel='count', ylabel='sentiment'>"
      ]
     },
     "execution_count": 1617,
     "metadata": {},
     "output_type": "execute_result"
    },
    {
     "data": {
      "image/png": "[encoded data removed]",
      "text/plain": [
       "<Figure size 640x480 with 1 Axes>"
      ]
     },
     "metadata": {},
     "output_type": "display_data"
    }
   ],
   "source": [
    "#Visualize data \n",
    "#seaborn.countplot() method is used to Show the counts of observations in each categorical bin using bars.\n",
    "# count plot on single categorical variable of 'sentiment'\n",
    "import seaborn as sns\n",
    "\n",
    "sns.countplot(y='sentiment',  data=df, palette=\"Set2\")"
   ]
  }
 ],
 "metadata": {
  "kernelspec": {
   "display_name": "Python 3",
   "language": "python",
   "name": "python3"
  },
  "language_info": {
   "codemirror_mode": {
    "name": "ipython",
    "version": 3
   },
   "file_extension": ".py",
   "mimetype": "text/x-python",
   "name": "python",
   "nbconvert_exporter": "python",
   "pygments_lexer": "ipython3",
   "version": "3.10.8"
  },
  "orig_nbformat": 4,
  "vscode": {
   "interpreter": {
    "hash": "af31cb7fe34359f32f44af411011df5137752e0d0bc390e2771c2d0b0524bd00"
   }
  }
 },
 "nbformat": 4,
 "nbformat_minor": 2
}
