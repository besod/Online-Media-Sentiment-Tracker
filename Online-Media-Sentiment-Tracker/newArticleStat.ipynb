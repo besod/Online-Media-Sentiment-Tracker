{
 "cells": [
  {
   "attachments": {},
   "cell_type": "markdown",
   "metadata": {},
   "source": [
    "## Data Mining and Sentiment Analysis using NLTK"
   ]
  },
  {
   "cell_type": "code",
   "execution_count": 473,
   "metadata": {},
   "outputs": [],
   "source": [
    "#Import necessary modules \n",
    "import sqlite3 \n",
    "import pandas as pd\n",
    "import nltk\n"
   ]
  },
  {
   "cell_type": "code",
   "execution_count": 474,
   "metadata": {},
   "outputs": [],
   "source": [
    "#Connect to sqlite database 'newArticle.db'\n",
    "conn = sqlite3.connect(\"newsArticle.db\")"
   ]
  },
  {
   "cell_type": "code",
   "execution_count": 475,
   "metadata": {},
   "outputs": [
    {
     "name": "stdout",
     "output_type": "stream",
     "text": [
      "<class 'pandas.core.frame.DataFrame'>\n",
      "RangeIndex: 124 entries, 0 to 123\n",
      "Data columns (total 2 columns):\n",
      " #   Column  Non-Null Count  Dtype \n",
      "---  ------  --------------  ----- \n",
      " 0   topic   124 non-null    object\n",
      " 1   body    124 non-null    object\n",
      "dtypes: object(2)\n",
      "memory usage: 2.1+ KB\n",
      "114\n"
     ]
    }
   ],
   "source": [
    "# Import scraped data columns 'topic' and 'body'.\n",
    "df_1=pd.read_sql_query(\"select topic,body from articles\",conn)\n",
    "df_1.info()\n",
    "\n",
    "#pd.options.mode.chained_assignment Can be set to None, \"warn\", or \"raise\". \"warn\" is the default.\n",
    "# None will suppress the warning entirely, and \"raise\" will throw a SettingWithCopyError\n",
    "pd.options.mode.chained_assignment = None\n",
    "\n",
    "#Delete duplicate rows based on 'body' column. We use this copy of the data frame in the analysis in the rows below.\n",
    "df=df_1.drop_duplicates(subset=['body'], keep=False)\n",
    "print(len(df))\n"
   ]
  },
  {
   "cell_type": "code",
   "execution_count": 476,
   "metadata": {},
   "outputs": [
    {
     "name": "stdout",
     "output_type": "stream",
     "text": [
      "114\n"
     ]
    },
    {
     "data": {
      "text/html": [
       "<div>\n",
       "<style scoped>\n",
       "    .dataframe tbody tr th:only-of-type {\n",
       "        vertical-align: middle;\n",
       "    }\n",
       "\n",
       "    .dataframe tbody tr th {\n",
       "        vertical-align: top;\n",
       "    }\n",
       "\n",
       "    .dataframe thead th {\n",
       "        text-align: right;\n",
       "    }\n",
       "</style>\n",
       "<table border=\"1\" class=\"dataframe\">\n",
       "  <thead>\n",
       "    <tr style=\"text-align: right;\">\n",
       "      <th></th>\n",
       "      <th>topic</th>\n",
       "      <th>body</th>\n",
       "    </tr>\n",
       "  </thead>\n",
       "  <tbody>\n",
       "    <tr>\n",
       "      <th>0</th>\n",
       "      <td>Natural Resources</td>\n",
       "      <td>companiespioneer natural resources cofollowcot...</td>\n",
       "    </tr>\n",
       "    <tr>\n",
       "      <th>2</th>\n",
       "      <td>Natural Resources</td>\n",
       "      <td>nov 3 (reuters) - canadian natural resources l...</td>\n",
       "    </tr>\n",
       "    <tr>\n",
       "      <th>6</th>\n",
       "      <td>Natural Resources</td>\n",
       "      <td>june 1 (reuters) - global natural gas markets ...</td>\n",
       "    </tr>\n",
       "    <tr>\n",
       "      <th>7</th>\n",
       "      <td>Natural Resources</td>\n",
       "      <td>companiespioneer natural resources cofollowden...</td>\n",
       "    </tr>\n",
       "    <tr>\n",
       "      <th>8</th>\n",
       "      <td>Natural Resources</td>\n",
       "      <td>may 5 (reuters) - u.s. forecasts anticipating ...</td>\n",
       "    </tr>\n",
       "  </tbody>\n",
       "</table>\n",
       "</div>"
      ],
      "text/plain": [
       "               topic                                               body\n",
       "0  Natural Resources  companiespioneer natural resources cofollowcot...\n",
       "2  Natural Resources  nov 3 (reuters) - canadian natural resources l...\n",
       "6  Natural Resources  june 1 (reuters) - global natural gas markets ...\n",
       "7  Natural Resources  companiespioneer natural resources cofollowden...\n",
       "8  Natural Resources  may 5 (reuters) - u.s. forecasts anticipating ..."
      ]
     },
     "execution_count": 476,
     "metadata": {},
     "output_type": "execute_result"
    }
   ],
   "source": [
    "# Data transformation\n",
    "# the astype() metod transforms the data into strings\n",
    "df['body'] = df['body'].astype(str).str.lower()\n",
    "print(len(df['body']))\n",
    "df.head(5)\n",
    "\n"
   ]
  },
  {
   "cell_type": "code",
   "execution_count": null,
   "metadata": {},
   "outputs": [],
   "source": []
  },
  {
   "attachments": {},
   "cell_type": "markdown",
   "metadata": {},
   "source": [
    "### Tokenization"
   ]
  },
  {
   "cell_type": "code",
   "execution_count": 477,
   "metadata": {},
   "outputs": [
    {
     "name": "stdout",
     "output_type": "stream",
     "text": [
      "{'then', 'didn', 'whom', 'who', 'when', 'most', 've', 'wasn', 'won', 'yours', 'from', 'in', 'down', \"didn't\", 'such', \"hadn't\", \"shan't\", 't', \"wasn't\", 'than', 'been', 'why', 'of', 'what', 'through', 'above', 'as', 'ain', 'it', 'do', 'until', 'for', 'to', 'hers', 'aren', 'those', \"won't\", 'be', 'some', 'up', 'doing', 'which', 'their', 'further', 'again', 'about', 'out', 'd', 'shouldn', 'mustn', 'shan', 'if', 'is', \"isn't\", 'its', 'the', 'while', 'own', 'y', 'between', 'his', \"weren't\", 'himself', 'once', \"she's\", 'hasn', 'he', 'now', 'had', 'all', 'where', \"you're\", 'by', 'were', 's', 'same', 'too', 'myself', 'can', 'these', 'they', 'an', 'and', 'nor', 'you', 'isn', 'against', 'both', \"that'll\", 'each', 'yourselves', 'itself', \"you'd\", 'll', 'will', \"wouldn't\", 'o', 'theirs', 'mightn', 'hadn', 'yourself', \"you'll\", 'here', 'should', \"should've\", 'ours', 'being', 'below', 'how', 'a', 'off', \"mightn't\", 'just', 'we', 'ma', 'did', 'very', \"don't\", 'over', 'weren', 'during', 'on', \"haven't\", 'her', 'i', 'because', 'doesn', \"it's\", 'other', 'with', 'haven', 'there', 'only', 'after', 'any', 'has', 'having', 'couldn', 'him', 'not', 'am', 'does', \"aren't\", 'themselves', 'our', \"you've\", 'but', 'into', 'no', 'don', 'your', 'was', 'so', \"doesn't\", \"shouldn't\", 'them', \"needn't\", \"mustn't\", 'wouldn', 'herself', 'my', 'under', 'few', 'that', 'are', 'ourselves', 'before', 'she', 'this', 'at', 'me', 're', 'more', \"couldn't\", 'or', 'm', \"hasn't\", 'have', 'needn'}\n",
      "179\n",
      "192\n"
     ]
    },
    {
     "name": "stderr",
     "output_type": "stream",
     "text": [
      "[nltk_data] Downloading package stopwords to\n",
      "[nltk_data]     C:\\Users\\Benjamin\\AppData\\Roaming\\nltk_data...\n",
      "[nltk_data]   Package stopwords is already up-to-date!\n"
     ]
    },
    {
     "name": "stdout",
     "output_type": "stream",
     "text": [
      "0      [companiespioneer, natural, resources, cofollo...\n",
      "2      [nov, canadian, natural, resources, ltd, raise...\n",
      "6      [june, global, natural, gas, markets, going, s...\n",
      "7      [companiespioneer, natural, resources, cofollo...\n",
      "8      [may, forecasts, anticipating, oil, production...\n",
      "                             ...                        \n",
      "119    [share, facebookshare, twittershare, linkedin,...\n",
      "120    [share, facebookshare, twittershare, linkeding...\n",
      "121    [share, facebookshare, twittershare, linkeding...\n",
      "122    [share, facebookshare, twittershare, linkedinj...\n",
      "123    [share, facebookshare, twittershare, linkedint...\n",
      "Name: body_token, Length: 114, dtype: object\n"
     ]
    }
   ],
   "source": [
    "#Tokenization is splitting up body of the text into smaller lines and words.\n",
    "# NLTK’s RegexpTokenizer imported and used to perform tokenization in combination with regular expressions.\n",
    "from nltk.tokenize import RegexpTokenizer\n",
    "from nltk.tokenize import word_tokenize\n",
    "from nltk.corpus import stopwords\n",
    "\n",
    "# Stop words are words in a stop list which are dropped before analysing natural language data since they don’t contain valuable information (like “will”, “and”, “or”, “has”, …).\n",
    "nltk.download('stopwords')\n",
    "\n",
    "# Make a list of english stopwords\n",
    "stop_words = set(stopwords.words('english'))\n",
    "print(stop_words)\n",
    "print(len(stop_words))\n",
    "\n",
    "# Extend the list with own custom stopwords\n",
    "my_stopwords = ['https','could','years','not','prices','price','would','can','thursday','monday','wednesday','central','people','article','reuters']\n",
    "stop_words.update(my_stopwords)\n",
    "print(len(stop_words))\n",
    "\n",
    "# \\w+ matches 1 or more word characters (same as [a-zA-Z0-9_]+).This means most characters that can be part of a word in any language, as well as numbers and the underscore.\n",
    "regexp = RegexpTokenizer('\\w+')\n",
    "df['body_token']=df['body'].apply(regexp.tokenize)\n",
    "\n",
    "#Remove stopwords from the scraped articles\n",
    "df['body_token'] = df['body'].apply(lambda x: [word.lower() for word in word_tokenize(x) if word.isalpha() and word.lower() not in stop_words])\n",
    "print(df['body_token'])\n"
   ]
  },
  {
   "cell_type": "code",
   "execution_count": 478,
   "metadata": {},
   "outputs": [
    {
     "data": {
      "text/html": [
       "<div>\n",
       "<style scoped>\n",
       "    .dataframe tbody tr th:only-of-type {\n",
       "        vertical-align: middle;\n",
       "    }\n",
       "\n",
       "    .dataframe tbody tr th {\n",
       "        vertical-align: top;\n",
       "    }\n",
       "\n",
       "    .dataframe thead th {\n",
       "        text-align: right;\n",
       "    }\n",
       "</style>\n",
       "<table border=\"1\" class=\"dataframe\">\n",
       "  <thead>\n",
       "    <tr style=\"text-align: right;\">\n",
       "      <th></th>\n",
       "      <th>body</th>\n",
       "      <th>body_token</th>\n",
       "      <th>body_string</th>\n",
       "    </tr>\n",
       "  </thead>\n",
       "  <tbody>\n",
       "    <tr>\n",
       "      <th>0</th>\n",
       "      <td>companiespioneer natural resources cofollowcot...</td>\n",
       "      <td>[companiespioneer, natural, resources, cofollo...</td>\n",
       "      <td>companiespioneer natural resources cofollowcot...</td>\n",
       "    </tr>\n",
       "    <tr>\n",
       "      <th>2</th>\n",
       "      <td>nov 3 (reuters) - canadian natural resources l...</td>\n",
       "      <td>[nov, canadian, natural, resources, ltd, raise...</td>\n",
       "      <td>canadian natural resources raised dividend bea...</td>\n",
       "    </tr>\n",
       "    <tr>\n",
       "      <th>6</th>\n",
       "      <td>june 1 (reuters) - global natural gas markets ...</td>\n",
       "      <td>[june, global, natural, gas, markets, going, s...</td>\n",
       "      <td>global natural markets structural change execu...</td>\n",
       "    </tr>\n",
       "    <tr>\n",
       "      <th>7</th>\n",
       "      <td>companiespioneer natural resources cofollowden...</td>\n",
       "      <td>[companiespioneer, natural, resources, cofollo...</td>\n",
       "      <td>companiespioneer natural resources cofollowden...</td>\n",
       "    </tr>\n",
       "    <tr>\n",
       "      <th>8</th>\n",
       "      <td>may 5 (reuters) - u.s. forecasts anticipating ...</td>\n",
       "      <td>[may, forecasts, anticipating, oil, production...</td>\n",
       "      <td>forecasts anticipating production rising milli...</td>\n",
       "    </tr>\n",
       "  </tbody>\n",
       "</table>\n",
       "</div>"
      ],
      "text/plain": [
       "                                                body  \\\n",
       "0  companiespioneer natural resources cofollowcot...   \n",
       "2  nov 3 (reuters) - canadian natural resources l...   \n",
       "6  june 1 (reuters) - global natural gas markets ...   \n",
       "7  companiespioneer natural resources cofollowden...   \n",
       "8  may 5 (reuters) - u.s. forecasts anticipating ...   \n",
       "\n",
       "                                          body_token  \\\n",
       "0  [companiespioneer, natural, resources, cofollo...   \n",
       "2  [nov, canadian, natural, resources, ltd, raise...   \n",
       "6  [june, global, natural, gas, markets, going, s...   \n",
       "7  [companiespioneer, natural, resources, cofollo...   \n",
       "8  [may, forecasts, anticipating, oil, production...   \n",
       "\n",
       "                                         body_string  \n",
       "0  companiespioneer natural resources cofollowcot...  \n",
       "2  canadian natural resources raised dividend bea...  \n",
       "6  global natural markets structural change execu...  \n",
       "7  companiespioneer natural resources cofollowden...  \n",
       "8  forecasts anticipating production rising milli...  "
      ]
     },
     "execution_count": 478,
     "metadata": {},
     "output_type": "execute_result"
    }
   ],
   "source": [
    "#Remove infrequent words.\n",
    "# First change the format of body_token to strings and keep only words which are longer than 5 letters\n",
    "df['body_string'] = df['body_token'].apply(lambda x: ' '.join([item for item in x if len(item)>5]))\n",
    "\n",
    "# Prints the row article text, token and strings which contain more than 5 letters \n",
    "df[['body', 'body_token', 'body_string']].head()"
   ]
  },
  {
   "cell_type": "code",
   "execution_count": 479,
   "metadata": {},
   "outputs": [],
   "source": [
    "#Create a list of all words longer than 5 letter as specified above. \n",
    "all_words = ' '.join([word for word in df['body_string']])\n",
    "\n",
    "#Tokenize the new article strings list created.\n",
    "tokenized_words = nltk.tokenize.word_tokenize(all_words)\n"
   ]
  },
  {
   "cell_type": "code",
   "execution_count": 480,
   "metadata": {},
   "outputs": [
    {
     "data": {
      "text/plain": [
       "FreqDist({'inflation': 935, 'interest': 480, 'policy': 247, 'higher': 207, 'economic': 203, 'market': 194, 'federal': 171, 'monetary': 169, 'global': 158, 'section': 155, ...})"
      ]
     },
     "execution_count": 480,
     "metadata": {},
     "output_type": "execute_result"
    }
   ],
   "source": [
    "# Create a frequency distribution which records the number of times each word has occurred:\n",
    "from nltk.probability import FreqDist\n",
    "\n",
    "fdist = FreqDist(tokenized_words)\n",
    "fdist\n"
   ]
  },
  {
   "cell_type": "code",
   "execution_count": 481,
   "metadata": {},
   "outputs": [
    {
     "data": {
      "text/html": [
       "<div>\n",
       "<style scoped>\n",
       "    .dataframe tbody tr th:only-of-type {\n",
       "        vertical-align: middle;\n",
       "    }\n",
       "\n",
       "    .dataframe tbody tr th {\n",
       "        vertical-align: top;\n",
       "    }\n",
       "\n",
       "    .dataframe thead th {\n",
       "        text-align: right;\n",
       "    }\n",
       "</style>\n",
       "<table border=\"1\" class=\"dataframe\">\n",
       "  <thead>\n",
       "    <tr style=\"text-align: right;\">\n",
       "      <th></th>\n",
       "      <th>body</th>\n",
       "      <th>body_token</th>\n",
       "      <th>body_string</th>\n",
       "      <th>body_string_fdist</th>\n",
       "    </tr>\n",
       "  </thead>\n",
       "  <tbody>\n",
       "    <tr>\n",
       "      <th>0</th>\n",
       "      <td>companiespioneer natural resources cofollowcot...</td>\n",
       "      <td>[companiespioneer, natural, resources, cofollo...</td>\n",
       "      <td>companiespioneer natural resources cofollowcot...</td>\n",
       "      <td>natural resources energy likely executive offi...</td>\n",
       "    </tr>\n",
       "    <tr>\n",
       "      <th>2</th>\n",
       "      <td>nov 3 (reuters) - canadian natural resources l...</td>\n",
       "      <td>[nov, canadian, natural, resources, ltd, raise...</td>\n",
       "      <td>canadian natural resources raised dividend bea...</td>\n",
       "      <td>natural resources raised analysts estimates qu...</td>\n",
       "    </tr>\n",
       "    <tr>\n",
       "      <th>6</th>\n",
       "      <td>june 1 (reuters) - global natural gas markets ...</td>\n",
       "      <td>[june, global, natural, gas, markets, going, s...</td>\n",
       "      <td>global natural markets structural change execu...</td>\n",
       "      <td>global natural markets structural change execu...</td>\n",
       "    </tr>\n",
       "    <tr>\n",
       "      <th>7</th>\n",
       "      <td>companiespioneer natural resources cofollowden...</td>\n",
       "      <td>[companiespioneer, natural, resources, cofollo...</td>\n",
       "      <td>companiespioneer natural resources cofollowden...</td>\n",
       "      <td>natural resources executive officer public nat...</td>\n",
       "    </tr>\n",
       "    <tr>\n",
       "      <th>8</th>\n",
       "      <td>may 5 (reuters) - u.s. forecasts anticipating ...</td>\n",
       "      <td>[may, forecasts, anticipating, oil, production...</td>\n",
       "      <td>forecasts anticipating production rising milli...</td>\n",
       "      <td>forecasts production rising million aggressive...</td>\n",
       "    </tr>\n",
       "  </tbody>\n",
       "</table>\n",
       "</div>"
      ],
      "text/plain": [
       "                                                body  \\\n",
       "0  companiespioneer natural resources cofollowcot...   \n",
       "2  nov 3 (reuters) - canadian natural resources l...   \n",
       "6  june 1 (reuters) - global natural gas markets ...   \n",
       "7  companiespioneer natural resources cofollowden...   \n",
       "8  may 5 (reuters) - u.s. forecasts anticipating ...   \n",
       "\n",
       "                                          body_token  \\\n",
       "0  [companiespioneer, natural, resources, cofollo...   \n",
       "2  [nov, canadian, natural, resources, ltd, raise...   \n",
       "6  [june, global, natural, gas, markets, going, s...   \n",
       "7  [companiespioneer, natural, resources, cofollo...   \n",
       "8  [may, forecasts, anticipating, oil, production...   \n",
       "\n",
       "                                         body_string  \\\n",
       "0  companiespioneer natural resources cofollowcot...   \n",
       "2  canadian natural resources raised dividend bea...   \n",
       "6  global natural markets structural change execu...   \n",
       "7  companiespioneer natural resources cofollowden...   \n",
       "8  forecasts anticipating production rising milli...   \n",
       "\n",
       "                                   body_string_fdist  \n",
       "0  natural resources energy likely executive offi...  \n",
       "2  natural resources raised analysts estimates qu...  \n",
       "6  global natural markets structural change execu...  \n",
       "7  natural resources executive officer public nat...  \n",
       "8  forecasts production rising million aggressive...  "
      ]
     },
     "execution_count": 481,
     "metadata": {},
     "output_type": "execute_result"
    }
   ],
   "source": [
    "# We can use our fdist dictionary to drop words which occur less than a certain amount of times (usually a value of 3 or 4 but we use 10 here).\n",
    "\n",
    "df['body_string_fdist'] = df['body_token'].apply(lambda x: ' '.join([item for item in x if fdist[item] >= 10 ]))\n",
    "df[['body', 'body_token', 'body_string', 'body_string_fdist']].head()"
   ]
  },
  {
   "attachments": {},
   "cell_type": "markdown",
   "metadata": {},
   "source": [
    "## Lemmatization"
   ]
  },
  {
   "cell_type": "code",
   "execution_count": 482,
   "metadata": {},
   "outputs": [
    {
     "name": "stderr",
     "output_type": "stream",
     "text": [
      "[nltk_data] Downloading package wordnet to\n",
      "[nltk_data]     C:\\Users\\Benjamin\\AppData\\Roaming\\nltk_data...\n",
      "[nltk_data]   Package wordnet is already up-to-date!\n",
      "[nltk_data] Downloading package omw-1.4 to\n",
      "[nltk_data]     C:\\Users\\Benjamin\\AppData\\Roaming\\nltk_data...\n",
      "[nltk_data]   Package omw-1.4 is already up-to-date!\n"
     ]
    },
    {
     "data": {
      "text/plain": [
       "True    114\n",
       "Name: is_equal, dtype: int64"
      ]
     },
     "execution_count": 482,
     "metadata": {},
     "output_type": "execute_result"
    }
   ],
   "source": [
    "\n",
    "# Lemmatisation (or lemmatization) in linguistics is the process of grouping together the inflected forms of a word so they can be analysed as a \n",
    "# single item, identified by the word's lemma, or dictionary form.[Wikipedia]\n",
    "\n",
    "nltk.download('wordnet')\n",
    "nltk.download('omw-1.4')\n",
    "from nltk.stem import WordNetLemmatizer\n",
    "\n",
    "wordnet_lem = WordNetLemmatizer()\n",
    "df['body_string_lem'] = df['body_string_fdist'].apply(wordnet_lem.lemmatize)\n",
    "\n",
    "# check if the columns are equal. This is to make sure that there are words to lemmatize.\n",
    "df['is_equal']= (df['body_string_fdist']==df['body_string_lem'])\n",
    "\n",
    "# show level count. Returns true and prints number of rows if the rows in every column is equal\n",
    "df.is_equal.value_counts()\n"
   ]
  },
  {
   "attachments": {},
   "cell_type": "markdown",
   "metadata": {},
   "source": [
    "## Frequency distribution"
   ]
  },
  {
   "cell_type": "code",
   "execution_count": 483,
   "metadata": {},
   "outputs": [
    {
     "name": "stderr",
     "output_type": "stream",
     "text": [
      "[nltk_data] Downloading package punkt to\n",
      "[nltk_data]     C:\\Users\\Benjamin\\AppData\\Roaming\\nltk_data...\n",
      "[nltk_data]   Package punkt is already up-to-date!\n"
     ]
    }
   ],
   "source": [
    "from nltk.probability import FreqDist\n",
    "nltk.download('punkt')\n",
    "\n",
    "#a new variable assigned to all lematized words\n",
    "all_words_lem = ' '.join([word for word in df['body_string_lem']])\n",
    "    "
   ]
  },
  {
   "cell_type": "code",
   "execution_count": 484,
   "metadata": {},
   "outputs": [
    {
     "name": "stdout",
     "output_type": "stream",
     "text": [
      "inflation  interest    policy    higher  economic \n",
      "      935       480       247       207       203 \n"
     ]
    }
   ],
   "source": [
    "#Tokenize lematized words and display frequency distribution.\n",
    "words = nltk.word_tokenize(all_words_lem)\n",
    "fd = FreqDist(words)\n",
    "\n",
    "#Display most common words in the lematized word cluster\n",
    "fd.most_common(5)\n",
    "fd.tabulate(5)"
   ]
  },
  {
   "attachments": {},
   "cell_type": "markdown",
   "metadata": {},
   "source": [
    "## Plot search words against their frequency of occurences in Plotly.\n",
    "#### Add search words here if necessary"
   ]
  },
  {
   "cell_type": "code",
   "execution_count": 485,
   "metadata": {},
   "outputs": [
    {
     "name": "stderr",
     "output_type": "stream",
     "text": [
      "C:\\Users\\Benjamin\\AppData\\Local\\Temp\\ipykernel_10064\\1007004307.py:9: FutureWarning:\n",
      "\n",
      "The default value of regex will change from True to False in a future version.\n",
      "\n"
     ]
    },
    {
     "data": {
      "image/png": "[encoded data removed]",
      "text/plain": [
       "<Figure size 640x480 with 1 Axes>"
      ]
     },
     "metadata": {},
     "output_type": "display_data"
    }
   ],
   "source": [
    "#Import plotly and plot the occurences of search words in the tokenized word list. \n",
    "#Import matplotlib and plot the occurences of searchwords in the tokenized word list. \n",
    "#The maximum value of 30 words to plot is given\n",
    "import plotly.express as px\n",
    "import matplotlib.pyplot as plt\n",
    "# Define a list of phrases to search for and remove all non-letter characters from the column.Convert all letter to lowercase\n",
    "phrases = ['natural resources','oil', 'inflation', 'interest rate','recession']\n",
    "\n",
    "df['body'] = df['body'].str.replace('[^a-zA-Z\\s]', '')\n",
    "\n",
    "df['body'] = df['body'].str.lower()\n",
    "\n",
    "# Count the occurrence frequencey of each phrase in the column\n",
    "occurrences = []\n",
    "for phrase in phrases:\n",
    "    occurrences.append(df['body'].str.count(phrase).sum())\n",
    "# Sort the phrases and occurrences lists in ascending order of occurrences\n",
    "phrases_sorted = [phrase for _, phrase in sorted(zip(occurrences, phrases))]\n",
    "occurrences_sorted = sorted(occurrences)\n",
    "\n",
    "# Plot the occurrences as a horizontal bar chart in ascending order\n",
    "plt.barh(phrases_sorted, occurrences_sorted)\n",
    "plt.show()\n"
   ]
  },
  {
   "cell_type": "code",
   "execution_count": 486,
   "metadata": {},
   "outputs": [
    {
     "name": "stdout",
     "output_type": "stream",
     "text": [
      "resources      14\n",
      "recession      73\n",
      "inflation     935\n",
      "rate          513\n",
      "interest      480\n",
      "corruption      1\n",
      "drought         3\n",
      "dtype: int64\n"
     ]
    },
    {
     "data": {
      "application/vnd.plotly.v1+json": {
       "config": {
        "plotlyServerURL": "https://plot.ly"
       },
       "data": [
        {
         "alignmentgroup": "True",
         "hovertemplate": "x=%{x}<br>y=%{y}<extra></extra>",
         "legendgroup": "",
         "marker": {
          "color": "#636efa",
          "pattern": {
           "shape": ""
          }
         },
         "name": "",
         "offsetgroup": "",
         "orientation": "h",
         "showlegend": false,
         "textposition": "auto",
         "type": "bar",
         "x": [
          14,
          73,
          935,
          513,
          480,
          1,
          3
         ],
         "xaxis": "x",
         "y": [
          "resources",
          "recession",
          "inflation",
          "rate",
          "interest",
          "corruption",
          "drought"
         ],
         "yaxis": "y"
        }
       ],
       "layout": {
        "barmode": "stack",
        "legend": {
         "tracegroupgap": 0
        },
        "template": {
         "data": {
          "bar": [
           {
            "error_x": {
             "color": "#2a3f5f"
            },
            "error_y": {
             "color": "#2a3f5f"
            },
            "marker": {
             "line": {
              "color": "#E5ECF6",
              "width": 0.5
             },
             "pattern": {
              "fillmode": "overlay",
              "size": 10,
              "solidity": 0.2
             }
            },
            "type": "bar"
           }
          ],
          "barpolar": [
           {
            "marker": {
             "line": {
              "color": "#E5ECF6",
              "width": 0.5
             },
             "pattern": {
              "fillmode": "overlay",
              "size": 10,
              "solidity": 0.2
             }
            },
            "type": "barpolar"
           }
          ],
          "carpet": [
           {
            "aaxis": {
             "endlinecolor": "#2a3f5f",
             "gridcolor": "white",
             "linecolor": "white",
             "minorgridcolor": "white",
             "startlinecolor": "#2a3f5f"
            },
            "baxis": {
             "endlinecolor": "#2a3f5f",
             "gridcolor": "white",
             "linecolor": "white",
             "minorgridcolor": "white",
             "startlinecolor": "#2a3f5f"
            },
            "type": "carpet"
           }
          ],
          "choropleth": [
           {
            "colorbar": {
             "outlinewidth": 0,
             "ticks": ""
            },
            "type": "choropleth"
           }
          ],
          "contour": [
           {
            "colorbar": {
             "outlinewidth": 0,
             "ticks": ""
            },
            "colorscale": [
             [
              0,
              "#0d0887"
             ],
             [
              0.1111111111111111,
              "#46039f"
             ],
             [
              0.2222222222222222,
              "#7201a8"
             ],
             [
              0.3333333333333333,
              "#9c179e"
             ],
             [
              0.4444444444444444,
              "#bd3786"
             ],
             [
              0.5555555555555556,
              "#d8576b"
             ],
             [
              0.6666666666666666,
              "#ed7953"
             ],
             [
              0.7777777777777778,
              "#fb9f3a"
             ],
             [
              0.8888888888888888,
              "#fdca26"
             ],
             [
              1,
              "#f0f921"
             ]
            ],
            "type": "contour"
           }
          ],
          "contourcarpet": [
           {
            "colorbar": {
             "outlinewidth": 0,
             "ticks": ""
            },
            "type": "contourcarpet"
           }
          ],
          "heatmap": [
           {
            "colorbar": {
             "outlinewidth": 0,
             "ticks": ""
            },
            "colorscale": [
             [
              0,
              "#0d0887"
             ],
             [
              0.1111111111111111,
              "#46039f"
             ],
             [
              0.2222222222222222,
              "#7201a8"
             ],
             [
              0.3333333333333333,
              "#9c179e"
             ],
             [
              0.4444444444444444,
              "#bd3786"
             ],
             [
              0.5555555555555556,
              "#d8576b"
             ],
             [
              0.6666666666666666,
              "#ed7953"
             ],
             [
              0.7777777777777778,
              "#fb9f3a"
             ],
             [
              0.8888888888888888,
              "#fdca26"
             ],
             [
              1,
              "#f0f921"
             ]
            ],
            "type": "heatmap"
           }
          ],
          "heatmapgl": [
           {
            "colorbar": {
             "outlinewidth": 0,
             "ticks": ""
            },
            "colorscale": [
             [
              0,
              "#0d0887"
             ],
             [
              0.1111111111111111,
              "#46039f"
             ],
             [
              0.2222222222222222,
              "#7201a8"
             ],
             [
              0.3333333333333333,
              "#9c179e"
             ],
             [
              0.4444444444444444,
              "#bd3786"
             ],
             [
              0.5555555555555556,
              "#d8576b"
             ],
             [
              0.6666666666666666,
              "#ed7953"
             ],
             [
              0.7777777777777778,
              "#fb9f3a"
             ],
             [
              0.8888888888888888,
              "#fdca26"
             ],
             [
              1,
              "#f0f921"
             ]
            ],
            "type": "heatmapgl"
           }
          ],
          "histogram": [
           {
            "marker": {
             "pattern": {
              "fillmode": "overlay",
              "size": 10,
              "solidity": 0.2
             }
            },
            "type": "histogram"
           }
          ],
          "histogram2d": [
           {
            "colorbar": {
             "outlinewidth": 0,
             "ticks": ""
            },
            "colorscale": [
             [
              0,
              "#0d0887"
             ],
             [
              0.1111111111111111,
              "#46039f"
             ],
             [
              0.2222222222222222,
              "#7201a8"
             ],
             [
              0.3333333333333333,
              "#9c179e"
             ],
             [
              0.4444444444444444,
              "#bd3786"
             ],
             [
              0.5555555555555556,
              "#d8576b"
             ],
             [
              0.6666666666666666,
              "#ed7953"
             ],
             [
              0.7777777777777778,
              "#fb9f3a"
             ],
             [
              0.8888888888888888,
              "#fdca26"
             ],
             [
              1,
              "#f0f921"
             ]
            ],
            "type": "histogram2d"
           }
          ],
          "histogram2dcontour": [
           {
            "colorbar": {
             "outlinewidth": 0,
             "ticks": ""
            },
            "colorscale": [
             [
              0,
              "#0d0887"
             ],
             [
              0.1111111111111111,
              "#46039f"
             ],
             [
              0.2222222222222222,
              "#7201a8"
             ],
             [
              0.3333333333333333,
              "#9c179e"
             ],
             [
              0.4444444444444444,
              "#bd3786"
             ],
             [
              0.5555555555555556,
              "#d8576b"
             ],
             [
              0.6666666666666666,
              "#ed7953"
             ],
             [
              0.7777777777777778,
              "#fb9f3a"
             ],
             [
              0.8888888888888888,
              "#fdca26"
             ],
             [
              1,
              "#f0f921"
             ]
            ],
            "type": "histogram2dcontour"
           }
          ],
          "mesh3d": [
           {
            "colorbar": {
             "outlinewidth": 0,
             "ticks": ""
            },
            "type": "mesh3d"
           }
          ],
          "parcoords": [
           {
            "line": {
             "colorbar": {
              "outlinewidth": 0,
              "ticks": ""
             }
            },
            "type": "parcoords"
           }
          ],
          "pie": [
           {
            "automargin": true,
            "type": "pie"
           }
          ],
          "scatter": [
           {
            "fillpattern": {
             "fillmode": "overlay",
             "size": 10,
             "solidity": 0.2
            },
            "type": "scatter"
           }
          ],
          "scatter3d": [
           {
            "line": {
             "colorbar": {
              "outlinewidth": 0,
              "ticks": ""
             }
            },
            "marker": {
             "colorbar": {
              "outlinewidth": 0,
              "ticks": ""
             }
            },
            "type": "scatter3d"
           }
          ],
          "scattercarpet": [
           {
            "marker": {
             "colorbar": {
              "outlinewidth": 0,
              "ticks": ""
             }
            },
            "type": "scattercarpet"
           }
          ],
          "scattergeo": [
           {
            "marker": {
             "colorbar": {
              "outlinewidth": 0,
              "ticks": ""
             }
            },
            "type": "scattergeo"
           }
          ],
          "scattergl": [
           {
            "marker": {
             "colorbar": {
              "outlinewidth": 0,
              "ticks": ""
             }
            },
            "type": "scattergl"
           }
          ],
          "scattermapbox": [
           {
            "marker": {
             "colorbar": {
              "outlinewidth": 0,
              "ticks": ""
             }
            },
            "type": "scattermapbox"
           }
          ],
          "scatterpolar": [
           {
            "marker": {
             "colorbar": {
              "outlinewidth": 0,
              "ticks": ""
             }
            },
            "type": "scatterpolar"
           }
          ],
          "scatterpolargl": [
           {
            "marker": {
             "colorbar": {
              "outlinewidth": 0,
              "ticks": ""
             }
            },
            "type": "scatterpolargl"
           }
          ],
          "scatterternary": [
           {
            "marker": {
             "colorbar": {
              "outlinewidth": 0,
              "ticks": ""
             }
            },
            "type": "scatterternary"
           }
          ],
          "surface": [
           {
            "colorbar": {
             "outlinewidth": 0,
             "ticks": ""
            },
            "colorscale": [
             [
              0,
              "#0d0887"
             ],
             [
              0.1111111111111111,
              "#46039f"
             ],
             [
              0.2222222222222222,
              "#7201a8"
             ],
             [
              0.3333333333333333,
              "#9c179e"
             ],
             [
              0.4444444444444444,
              "#bd3786"
             ],
             [
              0.5555555555555556,
              "#d8576b"
             ],
             [
              0.6666666666666666,
              "#ed7953"
             ],
             [
              0.7777777777777778,
              "#fb9f3a"
             ],
             [
              0.8888888888888888,
              "#fdca26"
             ],
             [
              1,
              "#f0f921"
             ]
            ],
            "type": "surface"
           }
          ],
          "table": [
           {
            "cells": {
             "fill": {
              "color": "#EBF0F8"
             },
             "line": {
              "color": "white"
             }
            },
            "header": {
             "fill": {
              "color": "#C8D4E3"
             },
             "line": {
              "color": "white"
             }
            },
            "type": "table"
           }
          ]
         },
         "layout": {
          "annotationdefaults": {
           "arrowcolor": "#2a3f5f",
           "arrowhead": 0,
           "arrowwidth": 1
          },
          "autotypenumbers": "strict",
          "coloraxis": {
           "colorbar": {
            "outlinewidth": 0,
            "ticks": ""
           }
          },
          "colorscale": {
           "diverging": [
            [
             0,
             "#8e0152"
            ],
            [
             0.1,
             "#c51b7d"
            ],
            [
             0.2,
             "#de77ae"
            ],
            [
             0.3,
             "#f1b6da"
            ],
            [
             0.4,
             "#fde0ef"
            ],
            [
             0.5,
             "#f7f7f7"
            ],
            [
             0.6,
             "#e6f5d0"
            ],
            [
             0.7,
             "#b8e186"
            ],
            [
             0.8,
             "#7fbc41"
            ],
            [
             0.9,
             "#4d9221"
            ],
            [
             1,
             "#276419"
            ]
           ],
           "sequential": [
            [
             0,
             "#0d0887"
            ],
            [
             0.1111111111111111,
             "#46039f"
            ],
            [
             0.2222222222222222,
             "#7201a8"
            ],
            [
             0.3333333333333333,
             "#9c179e"
            ],
            [
             0.4444444444444444,
             "#bd3786"
            ],
            [
             0.5555555555555556,
             "#d8576b"
            ],
            [
             0.6666666666666666,
             "#ed7953"
            ],
            [
             0.7777777777777778,
             "#fb9f3a"
            ],
            [
             0.8888888888888888,
             "#fdca26"
            ],
            [
             1,
             "#f0f921"
            ]
           ],
           "sequentialminus": [
            [
             0,
             "#0d0887"
            ],
            [
             0.1111111111111111,
             "#46039f"
            ],
            [
             0.2222222222222222,
             "#7201a8"
            ],
            [
             0.3333333333333333,
             "#9c179e"
            ],
            [
             0.4444444444444444,
             "#bd3786"
            ],
            [
             0.5555555555555556,
             "#d8576b"
            ],
            [
             0.6666666666666666,
             "#ed7953"
            ],
            [
             0.7777777777777778,
             "#fb9f3a"
            ],
            [
             0.8888888888888888,
             "#fdca26"
            ],
            [
             1,
             "#f0f921"
            ]
           ]
          },
          "colorway": [
           "#636efa",
           "#EF553B",
           "#00cc96",
           "#ab63fa",
           "#FFA15A",
           "#19d3f3",
           "#FF6692",
           "#B6E880",
           "#FF97FF",
           "#FECB52"
          ],
          "font": {
           "color": "#2a3f5f"
          },
          "geo": {
           "bgcolor": "white",
           "lakecolor": "white",
           "landcolor": "#E5ECF6",
           "showlakes": true,
           "showland": true,
           "subunitcolor": "white"
          },
          "hoverlabel": {
           "align": "left"
          },
          "hovermode": "closest",
          "mapbox": {
           "style": "light"
          },
          "paper_bgcolor": "white",
          "plot_bgcolor": "#E5ECF6",
          "polar": {
           "angularaxis": {
            "gridcolor": "white",
            "linecolor": "white",
            "ticks": ""
           },
           "bgcolor": "#E5ECF6",
           "radialaxis": {
            "gridcolor": "white",
            "linecolor": "white",
            "ticks": ""
           }
          },
          "scene": {
           "xaxis": {
            "backgroundcolor": "#E5ECF6",
            "gridcolor": "white",
            "gridwidth": 2,
            "linecolor": "white",
            "showbackground": true,
            "ticks": "",
            "zerolinecolor": "white"
           },
           "yaxis": {
            "backgroundcolor": "#E5ECF6",
            "gridcolor": "white",
            "gridwidth": 2,
            "linecolor": "white",
            "showbackground": true,
            "ticks": "",
            "zerolinecolor": "white"
           },
           "zaxis": {
            "backgroundcolor": "#E5ECF6",
            "gridcolor": "white",
            "gridwidth": 2,
            "linecolor": "white",
            "showbackground": true,
            "ticks": "",
            "zerolinecolor": "white"
           }
          },
          "shapedefaults": {
           "line": {
            "color": "#2a3f5f"
           }
          },
          "ternary": {
           "aaxis": {
            "gridcolor": "white",
            "linecolor": "white",
            "ticks": ""
           },
           "baxis": {
            "gridcolor": "white",
            "linecolor": "white",
            "ticks": ""
           },
           "bgcolor": "#E5ECF6",
           "caxis": {
            "gridcolor": "white",
            "linecolor": "white",
            "ticks": ""
           }
          },
          "title": {
           "x": 0.05
          },
          "xaxis": {
           "automargin": true,
           "gridcolor": "white",
           "linecolor": "white",
           "ticks": "",
           "title": {
            "standoff": 15
           },
           "zerolinecolor": "white",
           "zerolinewidth": 2
          },
          "yaxis": {
           "automargin": true,
           "gridcolor": "white",
           "linecolor": "white",
           "ticks": "",
           "title": {
            "standoff": 15
           },
           "zerolinecolor": "white",
           "zerolinewidth": 2
          }
         }
        },
        "title": {
         "text": "Search words occurency frequency",
         "x": 0.5
        },
        "xaxis": {
         "anchor": "y",
         "domain": [
          0,
          1
         ],
         "title": {
          "text": "Occurency frequency"
         }
        },
        "yaxis": {
         "anchor": "x",
         "categoryorder": "total ascending",
         "domain": [
          0,
          1
         ],
         "title": {
          "text": "Search word"
         }
        }
       }
      }
     },
     "metadata": {},
     "output_type": "display_data"
    }
   ],
   "source": [
    "\n",
    "\n",
    "topic_words = ['resources','interest','rate','inflation','recession','election,','corruption','drought','extreme temperatures'] # Add your topic words here\n",
    "\n",
    "fdist = FreqDist([word for words in df['body_token'].values.tolist() for word in words if word in topic_words])\n",
    "\n",
    "# Create pandas series to make plotting easier.Notice the tuples are converted to dict\n",
    "freqdist = pd.Series(dict(fdist))\n",
    "print(freqdist)\n",
    "\n",
    "fig = px.bar(y=freqdist.index, x=freqdist.values, \n",
    "                title=\"Search words occurency frequency\").update_layout(xaxis_title=\"Occurency frequency\", yaxis_title=\"Search word\")\n",
    "\n",
    "# Sort values in ascending order\n",
    "fig.update_layout(barmode='stack', yaxis={'categoryorder':'total ascending'})\n",
    "\n",
    "#Update the title of the graph to center\n",
    "fig.update_layout(title_text='Search words occurency frequency', title_x=0.5)\n",
    "\n",
    "# show plot\n",
    "fig.show()"
   ]
  },
  {
   "cell_type": "code",
   "execution_count": null,
   "metadata": {},
   "outputs": [],
   "source": []
  },
  {
   "attachments": {},
   "cell_type": "markdown",
   "metadata": {},
   "source": [
    "## Plot the most common words in Plotly"
   ]
  },
  {
   "cell_type": "code",
   "execution_count": 487,
   "metadata": {},
   "outputs": [
    {
     "name": "stdout",
     "output_type": "stream",
     "text": [
      "[('inflation', 935), ('interest', 480), ('policy', 247), ('higher', 207), ('economic', 203), ('market', 194), ('federal', 171), ('monetary', 169), ('global', 158), ('section', 155)]\n"
     ]
    }
   ],
   "source": [
    "# Obtain top 10 words from the frequency distribution and return as tuples\n",
    "top_10 = fd.most_common(10)\n",
    "print(top_10)\n",
    "\n",
    "# Create pandas series to make plotting easier.Notice the tuples are converted to dict\n",
    "fdist = pd.Series(dict(top_10))"
   ]
  },
  {
   "cell_type": "code",
   "execution_count": 488,
   "metadata": {},
   "outputs": [
    {
     "data": {
      "application/vnd.plotly.v1+json": {
       "config": {
        "plotlyServerURL": "https://plot.ly"
       },
       "data": [
        {
         "alignmentgroup": "True",
         "hovertemplate": "x=%{x}<br>y=%{y}<extra></extra>",
         "legendgroup": "",
         "marker": {
          "color": "#636efa",
          "pattern": {
           "shape": ""
          }
         },
         "name": "",
         "offsetgroup": "",
         "orientation": "h",
         "showlegend": false,
         "textposition": "auto",
         "type": "bar",
         "x": [
          935,
          480,
          247,
          207,
          203,
          194,
          171,
          169,
          158,
          155
         ],
         "xaxis": "x",
         "y": [
          "inflation",
          "interest",
          "policy",
          "higher",
          "economic",
          "market",
          "federal",
          "monetary",
          "global",
          "section"
         ],
         "yaxis": "y"
        }
       ],
       "layout": {
        "barmode": "stack",
        "legend": {
         "tracegroupgap": 0
        },
        "margin": {
         "t": 60
        },
        "template": {
         "data": {
          "bar": [
           {
            "error_x": {
             "color": "#2a3f5f"
            },
            "error_y": {
             "color": "#2a3f5f"
            },
            "marker": {
             "line": {
              "color": "#E5ECF6",
              "width": 0.5
             },
             "pattern": {
              "fillmode": "overlay",
              "size": 10,
              "solidity": 0.2
             }
            },
            "type": "bar"
           }
          ],
          "barpolar": [
           {
            "marker": {
             "line": {
              "color": "#E5ECF6",
              "width": 0.5
             },
             "pattern": {
              "fillmode": "overlay",
              "size": 10,
              "solidity": 0.2
             }
            },
            "type": "barpolar"
           }
          ],
          "carpet": [
           {
            "aaxis": {
             "endlinecolor": "#2a3f5f",
             "gridcolor": "white",
             "linecolor": "white",
             "minorgridcolor": "white",
             "startlinecolor": "#2a3f5f"
            },
            "baxis": {
             "endlinecolor": "#2a3f5f",
             "gridcolor": "white",
             "linecolor": "white",
             "minorgridcolor": "white",
             "startlinecolor": "#2a3f5f"
            },
            "type": "carpet"
           }
          ],
          "choropleth": [
           {
            "colorbar": {
             "outlinewidth": 0,
             "ticks": ""
            },
            "type": "choropleth"
           }
          ],
          "contour": [
           {
            "colorbar": {
             "outlinewidth": 0,
             "ticks": ""
            },
            "colorscale": [
             [
              0,
              "#0d0887"
             ],
             [
              0.1111111111111111,
              "#46039f"
             ],
             [
              0.2222222222222222,
              "#7201a8"
             ],
             [
              0.3333333333333333,
              "#9c179e"
             ],
             [
              0.4444444444444444,
              "#bd3786"
             ],
             [
              0.5555555555555556,
              "#d8576b"
             ],
             [
              0.6666666666666666,
              "#ed7953"
             ],
             [
              0.7777777777777778,
              "#fb9f3a"
             ],
             [
              0.8888888888888888,
              "#fdca26"
             ],
             [
              1,
              "#f0f921"
             ]
            ],
            "type": "contour"
           }
          ],
          "contourcarpet": [
           {
            "colorbar": {
             "outlinewidth": 0,
             "ticks": ""
            },
            "type": "contourcarpet"
           }
          ],
          "heatmap": [
           {
            "colorbar": {
             "outlinewidth": 0,
             "ticks": ""
            },
            "colorscale": [
             [
              0,
              "#0d0887"
             ],
             [
              0.1111111111111111,
              "#46039f"
             ],
             [
              0.2222222222222222,
              "#7201a8"
             ],
             [
              0.3333333333333333,
              "#9c179e"
             ],
             [
              0.4444444444444444,
              "#bd3786"
             ],
             [
              0.5555555555555556,
              "#d8576b"
             ],
             [
              0.6666666666666666,
              "#ed7953"
             ],
             [
              0.7777777777777778,
              "#fb9f3a"
             ],
             [
              0.8888888888888888,
              "#fdca26"
             ],
             [
              1,
              "#f0f921"
             ]
            ],
            "type": "heatmap"
           }
          ],
          "heatmapgl": [
           {
            "colorbar": {
             "outlinewidth": 0,
             "ticks": ""
            },
            "colorscale": [
             [
              0,
              "#0d0887"
             ],
             [
              0.1111111111111111,
              "#46039f"
             ],
             [
              0.2222222222222222,
              "#7201a8"
             ],
             [
              0.3333333333333333,
              "#9c179e"
             ],
             [
              0.4444444444444444,
              "#bd3786"
             ],
             [
              0.5555555555555556,
              "#d8576b"
             ],
             [
              0.6666666666666666,
              "#ed7953"
             ],
             [
              0.7777777777777778,
              "#fb9f3a"
             ],
             [
              0.8888888888888888,
              "#fdca26"
             ],
             [
              1,
              "#f0f921"
             ]
            ],
            "type": "heatmapgl"
           }
          ],
          "histogram": [
           {
            "marker": {
             "pattern": {
              "fillmode": "overlay",
              "size": 10,
              "solidity": 0.2
             }
            },
            "type": "histogram"
           }
          ],
          "histogram2d": [
           {
            "colorbar": {
             "outlinewidth": 0,
             "ticks": ""
            },
            "colorscale": [
             [
              0,
              "#0d0887"
             ],
             [
              0.1111111111111111,
              "#46039f"
             ],
             [
              0.2222222222222222,
              "#7201a8"
             ],
             [
              0.3333333333333333,
              "#9c179e"
             ],
             [
              0.4444444444444444,
              "#bd3786"
             ],
             [
              0.5555555555555556,
              "#d8576b"
             ],
             [
              0.6666666666666666,
              "#ed7953"
             ],
             [
              0.7777777777777778,
              "#fb9f3a"
             ],
             [
              0.8888888888888888,
              "#fdca26"
             ],
             [
              1,
              "#f0f921"
             ]
            ],
            "type": "histogram2d"
           }
          ],
          "histogram2dcontour": [
           {
            "colorbar": {
             "outlinewidth": 0,
             "ticks": ""
            },
            "colorscale": [
             [
              0,
              "#0d0887"
             ],
             [
              0.1111111111111111,
              "#46039f"
             ],
             [
              0.2222222222222222,
              "#7201a8"
             ],
             [
              0.3333333333333333,
              "#9c179e"
             ],
             [
              0.4444444444444444,
              "#bd3786"
             ],
             [
              0.5555555555555556,
              "#d8576b"
             ],
             [
              0.6666666666666666,
              "#ed7953"
             ],
             [
              0.7777777777777778,
              "#fb9f3a"
             ],
             [
              0.8888888888888888,
              "#fdca26"
             ],
             [
              1,
              "#f0f921"
             ]
            ],
            "type": "histogram2dcontour"
           }
          ],
          "mesh3d": [
           {
            "colorbar": {
             "outlinewidth": 0,
             "ticks": ""
            },
            "type": "mesh3d"
           }
          ],
          "parcoords": [
           {
            "line": {
             "colorbar": {
              "outlinewidth": 0,
              "ticks": ""
             }
            },
            "type": "parcoords"
           }
          ],
          "pie": [
           {
            "automargin": true,
            "type": "pie"
           }
          ],
          "scatter": [
           {
            "fillpattern": {
             "fillmode": "overlay",
             "size": 10,
             "solidity": 0.2
            },
            "type": "scatter"
           }
          ],
          "scatter3d": [
           {
            "line": {
             "colorbar": {
              "outlinewidth": 0,
              "ticks": ""
             }
            },
            "marker": {
             "colorbar": {
              "outlinewidth": 0,
              "ticks": ""
             }
            },
            "type": "scatter3d"
           }
          ],
          "scattercarpet": [
           {
            "marker": {
             "colorbar": {
              "outlinewidth": 0,
              "ticks": ""
             }
            },
            "type": "scattercarpet"
           }
          ],
          "scattergeo": [
           {
            "marker": {
             "colorbar": {
              "outlinewidth": 0,
              "ticks": ""
             }
            },
            "type": "scattergeo"
           }
          ],
          "scattergl": [
           {
            "marker": {
             "colorbar": {
              "outlinewidth": 0,
              "ticks": ""
             }
            },
            "type": "scattergl"
           }
          ],
          "scattermapbox": [
           {
            "marker": {
             "colorbar": {
              "outlinewidth": 0,
              "ticks": ""
             }
            },
            "type": "scattermapbox"
           }
          ],
          "scatterpolar": [
           {
            "marker": {
             "colorbar": {
              "outlinewidth": 0,
              "ticks": ""
             }
            },
            "type": "scatterpolar"
           }
          ],
          "scatterpolargl": [
           {
            "marker": {
             "colorbar": {
              "outlinewidth": 0,
              "ticks": ""
             }
            },
            "type": "scatterpolargl"
           }
          ],
          "scatterternary": [
           {
            "marker": {
             "colorbar": {
              "outlinewidth": 0,
              "ticks": ""
             }
            },
            "type": "scatterternary"
           }
          ],
          "surface": [
           {
            "colorbar": {
             "outlinewidth": 0,
             "ticks": ""
            },
            "colorscale": [
             [
              0,
              "#0d0887"
             ],
             [
              0.1111111111111111,
              "#46039f"
             ],
             [
              0.2222222222222222,
              "#7201a8"
             ],
             [
              0.3333333333333333,
              "#9c179e"
             ],
             [
              0.4444444444444444,
              "#bd3786"
             ],
             [
              0.5555555555555556,
              "#d8576b"
             ],
             [
              0.6666666666666666,
              "#ed7953"
             ],
             [
              0.7777777777777778,
              "#fb9f3a"
             ],
             [
              0.8888888888888888,
              "#fdca26"
             ],
             [
              1,
              "#f0f921"
             ]
            ],
            "type": "surface"
           }
          ],
          "table": [
           {
            "cells": {
             "fill": {
              "color": "#EBF0F8"
             },
             "line": {
              "color": "white"
             }
            },
            "header": {
             "fill": {
              "color": "#C8D4E3"
             },
             "line": {
              "color": "white"
             }
            },
            "type": "table"
           }
          ]
         },
         "layout": {
          "annotationdefaults": {
           "arrowcolor": "#2a3f5f",
           "arrowhead": 0,
           "arrowwidth": 1
          },
          "autotypenumbers": "strict",
          "coloraxis": {
           "colorbar": {
            "outlinewidth": 0,
            "ticks": ""
           }
          },
          "colorscale": {
           "diverging": [
            [
             0,
             "#8e0152"
            ],
            [
             0.1,
             "#c51b7d"
            ],
            [
             0.2,
             "#de77ae"
            ],
            [
             0.3,
             "#f1b6da"
            ],
            [
             0.4,
             "#fde0ef"
            ],
            [
             0.5,
             "#f7f7f7"
            ],
            [
             0.6,
             "#e6f5d0"
            ],
            [
             0.7,
             "#b8e186"
            ],
            [
             0.8,
             "#7fbc41"
            ],
            [
             0.9,
             "#4d9221"
            ],
            [
             1,
             "#276419"
            ]
           ],
           "sequential": [
            [
             0,
             "#0d0887"
            ],
            [
             0.1111111111111111,
             "#46039f"
            ],
            [
             0.2222222222222222,
             "#7201a8"
            ],
            [
             0.3333333333333333,
             "#9c179e"
            ],
            [
             0.4444444444444444,
             "#bd3786"
            ],
            [
             0.5555555555555556,
             "#d8576b"
            ],
            [
             0.6666666666666666,
             "#ed7953"
            ],
            [
             0.7777777777777778,
             "#fb9f3a"
            ],
            [
             0.8888888888888888,
             "#fdca26"
            ],
            [
             1,
             "#f0f921"
            ]
           ],
           "sequentialminus": [
            [
             0,
             "#0d0887"
            ],
            [
             0.1111111111111111,
             "#46039f"
            ],
            [
             0.2222222222222222,
             "#7201a8"
            ],
            [
             0.3333333333333333,
             "#9c179e"
            ],
            [
             0.4444444444444444,
             "#bd3786"
            ],
            [
             0.5555555555555556,
             "#d8576b"
            ],
            [
             0.6666666666666666,
             "#ed7953"
            ],
            [
             0.7777777777777778,
             "#fb9f3a"
            ],
            [
             0.8888888888888888,
             "#fdca26"
            ],
            [
             1,
             "#f0f921"
            ]
           ]
          },
          "colorway": [
           "#636efa",
           "#EF553B",
           "#00cc96",
           "#ab63fa",
           "#FFA15A",
           "#19d3f3",
           "#FF6692",
           "#B6E880",
           "#FF97FF",
           "#FECB52"
          ],
          "font": {
           "color": "#2a3f5f"
          },
          "geo": {
           "bgcolor": "white",
           "lakecolor": "white",
           "landcolor": "#E5ECF6",
           "showlakes": true,
           "showland": true,
           "subunitcolor": "white"
          },
          "hoverlabel": {
           "align": "left"
          },
          "hovermode": "closest",
          "mapbox": {
           "style": "light"
          },
          "paper_bgcolor": "white",
          "plot_bgcolor": "#E5ECF6",
          "polar": {
           "angularaxis": {
            "gridcolor": "white",
            "linecolor": "white",
            "ticks": ""
           },
           "bgcolor": "#E5ECF6",
           "radialaxis": {
            "gridcolor": "white",
            "linecolor": "white",
            "ticks": ""
           }
          },
          "scene": {
           "xaxis": {
            "backgroundcolor": "#E5ECF6",
            "gridcolor": "white",
            "gridwidth": 2,
            "linecolor": "white",
            "showbackground": true,
            "ticks": "",
            "zerolinecolor": "white"
           },
           "yaxis": {
            "backgroundcolor": "#E5ECF6",
            "gridcolor": "white",
            "gridwidth": 2,
            "linecolor": "white",
            "showbackground": true,
            "ticks": "",
            "zerolinecolor": "white"
           },
           "zaxis": {
            "backgroundcolor": "#E5ECF6",
            "gridcolor": "white",
            "gridwidth": 2,
            "linecolor": "white",
            "showbackground": true,
            "ticks": "",
            "zerolinecolor": "white"
           }
          },
          "shapedefaults": {
           "line": {
            "color": "#2a3f5f"
           }
          },
          "ternary": {
           "aaxis": {
            "gridcolor": "white",
            "linecolor": "white",
            "ticks": ""
           },
           "baxis": {
            "gridcolor": "white",
            "linecolor": "white",
            "ticks": ""
           },
           "bgcolor": "#E5ECF6",
           "caxis": {
            "gridcolor": "white",
            "linecolor": "white",
            "ticks": ""
           }
          },
          "title": {
           "x": 0.05
          },
          "xaxis": {
           "automargin": true,
           "gridcolor": "white",
           "linecolor": "white",
           "ticks": "",
           "title": {
            "standoff": 15
           },
           "zerolinecolor": "white",
           "zerolinewidth": 2
          },
          "yaxis": {
           "automargin": true,
           "gridcolor": "white",
           "linecolor": "white",
           "ticks": "",
           "title": {
            "standoff": 15
           },
           "zerolinecolor": "white",
           "zerolinewidth": 2
          }
         }
        },
        "xaxis": {
         "anchor": "y",
         "domain": [
          0,
          1
         ],
         "title": {
          "text": "x"
         }
        },
        "yaxis": {
         "anchor": "x",
         "categoryorder": "total ascending",
         "domain": [
          0,
          1
         ],
         "title": {
          "text": "y"
         }
        }
       }
      }
     },
     "metadata": {},
     "output_type": "display_data"
    }
   ],
   "source": [
    "# Plot most frequent words in the articles\n",
    "#Show frequency of a specific word e.g inflation\n",
    "fd[\"inflation\",\"recession\"]\n",
    "\n",
    "fig = px.bar(y=fdist.index, x=fdist.values)\n",
    "\n",
    "# sort values in ascending order\n",
    "fig.update_layout(barmode='stack', yaxis={'categoryorder':'total ascending'})\n",
    "\n",
    "# show plot\n",
    "fig.show()\n",
    "\n"
   ]
  },
  {
   "attachments": {},
   "cell_type": "markdown",
   "metadata": {},
   "source": [
    "## Sentiment analysis using VADER"
   ]
  },
  {
   "cell_type": "code",
   "execution_count": 489,
   "metadata": {},
   "outputs": [
    {
     "name": "stderr",
     "output_type": "stream",
     "text": [
      "[nltk_data] Downloading package vader_lexicon to\n",
      "[nltk_data]     C:\\Users\\Benjamin\\AppData\\Roaming\\nltk_data...\n",
      "[nltk_data]   Package vader_lexicon is already up-to-date!\n"
     ]
    },
    {
     "data": {
      "text/plain": [
       "True"
      ]
     },
     "execution_count": 489,
     "metadata": {},
     "output_type": "execute_result"
    }
   ],
   "source": [
    "# NLTK provides a simple rule-based model for general sentiment analysis called VADER, which stands for “Valence Aware Dictionary and Sentiment Reasoner” (Hutto & Gilbert, 2014).\n",
    "nltk.download('vader_lexicon')"
   ]
  },
  {
   "cell_type": "code",
   "execution_count": 490,
   "metadata": {},
   "outputs": [],
   "source": [
    "from nltk.sentiment import SentimentIntensityAnalyzer\n",
    "\n",
    "# Initialize an object of SentimentIntensityAnalyzer with name “analyzer”\n",
    "analyzer = SentimentIntensityAnalyzer()"
   ]
  },
  {
   "cell_type": "code",
   "execution_count": 491,
   "metadata": {},
   "outputs": [
    {
     "data": {
      "text/html": [
       "<div>\n",
       "<style scoped>\n",
       "    .dataframe tbody tr th:only-of-type {\n",
       "        vertical-align: middle;\n",
       "    }\n",
       "\n",
       "    .dataframe tbody tr th {\n",
       "        vertical-align: top;\n",
       "    }\n",
       "\n",
       "    .dataframe thead th {\n",
       "        text-align: right;\n",
       "    }\n",
       "</style>\n",
       "<table border=\"1\" class=\"dataframe\">\n",
       "  <thead>\n",
       "    <tr style=\"text-align: right;\">\n",
       "      <th></th>\n",
       "      <th>topic</th>\n",
       "      <th>body</th>\n",
       "      <th>body_token</th>\n",
       "      <th>body_string</th>\n",
       "      <th>body_string_fdist</th>\n",
       "      <th>body_string_lem</th>\n",
       "      <th>is_equal</th>\n",
       "      <th>polarity</th>\n",
       "    </tr>\n",
       "  </thead>\n",
       "  <tbody>\n",
       "    <tr>\n",
       "      <th>121</th>\n",
       "      <td>Interest rate</td>\n",
       "      <td>share to facebookshare to twittershare to link...</td>\n",
       "      <td>[share, facebookshare, twittershare, linkeding...</td>\n",
       "      <td>facebookshare twittershare linkedingood mornin...</td>\n",
       "      <td>facebookshare twittershare morning president f...</td>\n",
       "      <td>facebookshare twittershare morning president f...</td>\n",
       "      <td>True</td>\n",
       "      <td>{'neg': 0.066, 'neu': 0.782, 'pos': 0.152, 'co...</td>\n",
       "    </tr>\n",
       "    <tr>\n",
       "      <th>122</th>\n",
       "      <td>Interest rate</td>\n",
       "      <td>share to facebookshare to twittershare to link...</td>\n",
       "      <td>[share, facebookshare, twittershare, linkedinj...</td>\n",
       "      <td>facebookshare twittershare linkedinjerome powe...</td>\n",
       "      <td>facebookshare twittershare powell chairman fed...</td>\n",
       "      <td>facebookshare twittershare powell chairman fed...</td>\n",
       "      <td>True</td>\n",
       "      <td>{'neg': 0.019, 'neu': 0.855, 'pos': 0.126, 'co...</td>\n",
       "    </tr>\n",
       "    <tr>\n",
       "      <th>123</th>\n",
       "      <td>Interest rate</td>\n",
       "      <td>share to facebookshare to twittershare to link...</td>\n",
       "      <td>[share, facebookshare, twittershare, linkedint...</td>\n",
       "      <td>facebookshare twittershare linkedinthe federal...</td>\n",
       "      <td>facebookshare twittershare federal reserve rai...</td>\n",
       "      <td>facebookshare twittershare federal reserve rai...</td>\n",
       "      <td>True</td>\n",
       "      <td>{'neg': 0.141, 'neu': 0.629, 'pos': 0.23, 'com...</td>\n",
       "    </tr>\n",
       "  </tbody>\n",
       "</table>\n",
       "</div>"
      ],
      "text/plain": [
       "             topic                                               body  \\\n",
       "121  Interest rate  share to facebookshare to twittershare to link...   \n",
       "122  Interest rate  share to facebookshare to twittershare to link...   \n",
       "123  Interest rate  share to facebookshare to twittershare to link...   \n",
       "\n",
       "                                            body_token  \\\n",
       "121  [share, facebookshare, twittershare, linkeding...   \n",
       "122  [share, facebookshare, twittershare, linkedinj...   \n",
       "123  [share, facebookshare, twittershare, linkedint...   \n",
       "\n",
       "                                           body_string  \\\n",
       "121  facebookshare twittershare linkedingood mornin...   \n",
       "122  facebookshare twittershare linkedinjerome powe...   \n",
       "123  facebookshare twittershare linkedinthe federal...   \n",
       "\n",
       "                                     body_string_fdist  \\\n",
       "121  facebookshare twittershare morning president f...   \n",
       "122  facebookshare twittershare powell chairman fed...   \n",
       "123  facebookshare twittershare federal reserve rai...   \n",
       "\n",
       "                                       body_string_lem  is_equal  \\\n",
       "121  facebookshare twittershare morning president f...      True   \n",
       "122  facebookshare twittershare powell chairman fed...      True   \n",
       "123  facebookshare twittershare federal reserve rai...      True   \n",
       "\n",
       "                                              polarity  \n",
       "121  {'neg': 0.066, 'neu': 0.782, 'pos': 0.152, 'co...  \n",
       "122  {'neg': 0.019, 'neu': 0.855, 'pos': 0.126, 'co...  \n",
       "123  {'neg': 0.141, 'neu': 0.629, 'pos': 0.23, 'com...  "
      ]
     },
     "execution_count": 491,
     "metadata": {},
     "output_type": "execute_result"
    }
   ],
   "source": [
    "# Polarity scores is a float within the range [-1.0, 1.0].\n",
    "# Polarity of a text is summarised from the polarity of individual words(positive,negative,neutral).\n",
    "# Polarity score is given for the lemmatized text\n",
    "df['polarity'] = df['body_string_lem'].apply(lambda x: analyzer.polarity_scores(x))\n",
    "df.tail(3)"
   ]
  },
  {
   "cell_type": "code",
   "execution_count": 492,
   "metadata": {},
   "outputs": [
    {
     "data": {
      "text/html": [
       "<div>\n",
       "<style scoped>\n",
       "    .dataframe tbody tr th:only-of-type {\n",
       "        vertical-align: middle;\n",
       "    }\n",
       "\n",
       "    .dataframe tbody tr th {\n",
       "        vertical-align: top;\n",
       "    }\n",
       "\n",
       "    .dataframe thead th {\n",
       "        text-align: right;\n",
       "    }\n",
       "</style>\n",
       "<table border=\"1\" class=\"dataframe\">\n",
       "  <thead>\n",
       "    <tr style=\"text-align: right;\">\n",
       "      <th></th>\n",
       "      <th>body</th>\n",
       "      <th>body_token</th>\n",
       "      <th>body_string</th>\n",
       "      <th>body_string_fdist</th>\n",
       "      <th>body_string_lem</th>\n",
       "      <th>is_equal</th>\n",
       "      <th>neg</th>\n",
       "      <th>neu</th>\n",
       "      <th>pos</th>\n",
       "      <th>compound</th>\n",
       "    </tr>\n",
       "  </thead>\n",
       "  <tbody>\n",
       "    <tr>\n",
       "      <th>0</th>\n",
       "      <td>companiespioneer natural resources cofollowcot...</td>\n",
       "      <td>[companiespioneer, natural, resources, cofollo...</td>\n",
       "      <td>companiespioneer natural resources cofollowcot...</td>\n",
       "      <td>natural resources energy likely executive offi...</td>\n",
       "      <td>natural resources energy likely executive offi...</td>\n",
       "      <td>True</td>\n",
       "      <td>0.047</td>\n",
       "      <td>0.747</td>\n",
       "      <td>0.206</td>\n",
       "      <td>0.7717</td>\n",
       "    </tr>\n",
       "    <tr>\n",
       "      <th>2</th>\n",
       "      <td>nov  reuters  canadian natural resources ltd c...</td>\n",
       "      <td>[nov, canadian, natural, resources, ltd, raise...</td>\n",
       "      <td>canadian natural resources raised dividend bea...</td>\n",
       "      <td>natural resources raised analysts estimates qu...</td>\n",
       "      <td>natural resources raised analysts estimates qu...</td>\n",
       "      <td>True</td>\n",
       "      <td>0.031</td>\n",
       "      <td>0.697</td>\n",
       "      <td>0.272</td>\n",
       "      <td>0.9468</td>\n",
       "    </tr>\n",
       "    <tr>\n",
       "      <th>6</th>\n",
       "      <td>june  reuters  global natural gas markets are ...</td>\n",
       "      <td>[june, global, natural, gas, markets, going, s...</td>\n",
       "      <td>global natural markets structural change execu...</td>\n",
       "      <td>global natural markets structural change execu...</td>\n",
       "      <td>global natural markets structural change execu...</td>\n",
       "      <td>True</td>\n",
       "      <td>0.053</td>\n",
       "      <td>0.740</td>\n",
       "      <td>0.208</td>\n",
       "      <td>0.9001</td>\n",
       "    </tr>\n",
       "    <tr>\n",
       "      <th>7</th>\n",
       "      <td>companiespioneer natural resources cofollowden...</td>\n",
       "      <td>[companiespioneer, natural, resources, cofollo...</td>\n",
       "      <td>companiespioneer natural resources cofollowden...</td>\n",
       "      <td>natural resources executive officer public nat...</td>\n",
       "      <td>natural resources executive officer public nat...</td>\n",
       "      <td>True</td>\n",
       "      <td>0.070</td>\n",
       "      <td>0.685</td>\n",
       "      <td>0.246</td>\n",
       "      <td>0.8689</td>\n",
       "    </tr>\n",
       "    <tr>\n",
       "      <th>8</th>\n",
       "      <td>may  reuters  us forecasts anticipating oil pr...</td>\n",
       "      <td>[may, forecasts, anticipating, oil, production...</td>\n",
       "      <td>forecasts anticipating production rising milli...</td>\n",
       "      <td>forecasts production rising million aggressive...</td>\n",
       "      <td>forecasts production rising million aggressive...</td>\n",
       "      <td>True</td>\n",
       "      <td>0.059</td>\n",
       "      <td>0.735</td>\n",
       "      <td>0.206</td>\n",
       "      <td>0.9081</td>\n",
       "    </tr>\n",
       "  </tbody>\n",
       "</table>\n",
       "</div>"
      ],
      "text/plain": [
       "                                                body  \\\n",
       "0  companiespioneer natural resources cofollowcot...   \n",
       "2  nov  reuters  canadian natural resources ltd c...   \n",
       "6  june  reuters  global natural gas markets are ...   \n",
       "7  companiespioneer natural resources cofollowden...   \n",
       "8  may  reuters  us forecasts anticipating oil pr...   \n",
       "\n",
       "                                          body_token  \\\n",
       "0  [companiespioneer, natural, resources, cofollo...   \n",
       "2  [nov, canadian, natural, resources, ltd, raise...   \n",
       "6  [june, global, natural, gas, markets, going, s...   \n",
       "7  [companiespioneer, natural, resources, cofollo...   \n",
       "8  [may, forecasts, anticipating, oil, production...   \n",
       "\n",
       "                                         body_string  \\\n",
       "0  companiespioneer natural resources cofollowcot...   \n",
       "2  canadian natural resources raised dividend bea...   \n",
       "6  global natural markets structural change execu...   \n",
       "7  companiespioneer natural resources cofollowden...   \n",
       "8  forecasts anticipating production rising milli...   \n",
       "\n",
       "                                   body_string_fdist  \\\n",
       "0  natural resources energy likely executive offi...   \n",
       "2  natural resources raised analysts estimates qu...   \n",
       "6  global natural markets structural change execu...   \n",
       "7  natural resources executive officer public nat...   \n",
       "8  forecasts production rising million aggressive...   \n",
       "\n",
       "                                     body_string_lem  is_equal    neg    neu  \\\n",
       "0  natural resources energy likely executive offi...      True  0.047  0.747   \n",
       "2  natural resources raised analysts estimates qu...      True  0.031  0.697   \n",
       "6  global natural markets structural change execu...      True  0.053  0.740   \n",
       "7  natural resources executive officer public nat...      True  0.070  0.685   \n",
       "8  forecasts production rising million aggressive...      True  0.059  0.735   \n",
       "\n",
       "     pos  compound  \n",
       "0  0.206    0.7717  \n",
       "2  0.272    0.9468  \n",
       "6  0.208    0.9001  \n",
       "7  0.246    0.8689  \n",
       "8  0.206    0.9081  "
      ]
     },
     "execution_count": 492,
     "metadata": {},
     "output_type": "execute_result"
    }
   ],
   "source": [
    "# Change data structure and drop topic and polarity columns and prepare for sentiment analysis\n",
    "df = pd.concat(\n",
    "    [df.drop([ 'topic', 'polarity'], axis=1), \n",
    "     df['polarity'].apply(pd.Series)], axis=1)\n",
    "df.head(5)"
   ]
  },
  {
   "cell_type": "code",
   "execution_count": 493,
   "metadata": {},
   "outputs": [
    {
     "data": {
      "text/html": [
       "<div>\n",
       "<style scoped>\n",
       "    .dataframe tbody tr th:only-of-type {\n",
       "        vertical-align: middle;\n",
       "    }\n",
       "\n",
       "    .dataframe tbody tr th {\n",
       "        vertical-align: top;\n",
       "    }\n",
       "\n",
       "    .dataframe thead th {\n",
       "        text-align: right;\n",
       "    }\n",
       "</style>\n",
       "<table border=\"1\" class=\"dataframe\">\n",
       "  <thead>\n",
       "    <tr style=\"text-align: right;\">\n",
       "      <th></th>\n",
       "      <th>body</th>\n",
       "      <th>body_token</th>\n",
       "      <th>body_string</th>\n",
       "      <th>body_string_fdist</th>\n",
       "      <th>body_string_lem</th>\n",
       "      <th>is_equal</th>\n",
       "      <th>neg</th>\n",
       "      <th>neu</th>\n",
       "      <th>pos</th>\n",
       "      <th>compound</th>\n",
       "      <th>sentiment</th>\n",
       "    </tr>\n",
       "  </thead>\n",
       "  <tbody>\n",
       "    <tr>\n",
       "      <th>0</th>\n",
       "      <td>companiespioneer natural resources cofollowcot...</td>\n",
       "      <td>[companiespioneer, natural, resources, cofollo...</td>\n",
       "      <td>companiespioneer natural resources cofollowcot...</td>\n",
       "      <td>natural resources energy likely executive offi...</td>\n",
       "      <td>natural resources energy likely executive offi...</td>\n",
       "      <td>True</td>\n",
       "      <td>0.047</td>\n",
       "      <td>0.747</td>\n",
       "      <td>0.206</td>\n",
       "      <td>0.7717</td>\n",
       "      <td>positive</td>\n",
       "    </tr>\n",
       "    <tr>\n",
       "      <th>2</th>\n",
       "      <td>nov  reuters  canadian natural resources ltd c...</td>\n",
       "      <td>[nov, canadian, natural, resources, ltd, raise...</td>\n",
       "      <td>canadian natural resources raised dividend bea...</td>\n",
       "      <td>natural resources raised analysts estimates qu...</td>\n",
       "      <td>natural resources raised analysts estimates qu...</td>\n",
       "      <td>True</td>\n",
       "      <td>0.031</td>\n",
       "      <td>0.697</td>\n",
       "      <td>0.272</td>\n",
       "      <td>0.9468</td>\n",
       "      <td>positive</td>\n",
       "    </tr>\n",
       "    <tr>\n",
       "      <th>6</th>\n",
       "      <td>june  reuters  global natural gas markets are ...</td>\n",
       "      <td>[june, global, natural, gas, markets, going, s...</td>\n",
       "      <td>global natural markets structural change execu...</td>\n",
       "      <td>global natural markets structural change execu...</td>\n",
       "      <td>global natural markets structural change execu...</td>\n",
       "      <td>True</td>\n",
       "      <td>0.053</td>\n",
       "      <td>0.740</td>\n",
       "      <td>0.208</td>\n",
       "      <td>0.9001</td>\n",
       "      <td>positive</td>\n",
       "    </tr>\n",
       "    <tr>\n",
       "      <th>7</th>\n",
       "      <td>companiespioneer natural resources cofollowden...</td>\n",
       "      <td>[companiespioneer, natural, resources, cofollo...</td>\n",
       "      <td>companiespioneer natural resources cofollowden...</td>\n",
       "      <td>natural resources executive officer public nat...</td>\n",
       "      <td>natural resources executive officer public nat...</td>\n",
       "      <td>True</td>\n",
       "      <td>0.070</td>\n",
       "      <td>0.685</td>\n",
       "      <td>0.246</td>\n",
       "      <td>0.8689</td>\n",
       "      <td>positive</td>\n",
       "    </tr>\n",
       "    <tr>\n",
       "      <th>8</th>\n",
       "      <td>may  reuters  us forecasts anticipating oil pr...</td>\n",
       "      <td>[may, forecasts, anticipating, oil, production...</td>\n",
       "      <td>forecasts anticipating production rising milli...</td>\n",
       "      <td>forecasts production rising million aggressive...</td>\n",
       "      <td>forecasts production rising million aggressive...</td>\n",
       "      <td>True</td>\n",
       "      <td>0.059</td>\n",
       "      <td>0.735</td>\n",
       "      <td>0.206</td>\n",
       "      <td>0.9081</td>\n",
       "      <td>positive</td>\n",
       "    </tr>\n",
       "  </tbody>\n",
       "</table>\n",
       "</div>"
      ],
      "text/plain": [
       "                                                body  \\\n",
       "0  companiespioneer natural resources cofollowcot...   \n",
       "2  nov  reuters  canadian natural resources ltd c...   \n",
       "6  june  reuters  global natural gas markets are ...   \n",
       "7  companiespioneer natural resources cofollowden...   \n",
       "8  may  reuters  us forecasts anticipating oil pr...   \n",
       "\n",
       "                                          body_token  \\\n",
       "0  [companiespioneer, natural, resources, cofollo...   \n",
       "2  [nov, canadian, natural, resources, ltd, raise...   \n",
       "6  [june, global, natural, gas, markets, going, s...   \n",
       "7  [companiespioneer, natural, resources, cofollo...   \n",
       "8  [may, forecasts, anticipating, oil, production...   \n",
       "\n",
       "                                         body_string  \\\n",
       "0  companiespioneer natural resources cofollowcot...   \n",
       "2  canadian natural resources raised dividend bea...   \n",
       "6  global natural markets structural change execu...   \n",
       "7  companiespioneer natural resources cofollowden...   \n",
       "8  forecasts anticipating production rising milli...   \n",
       "\n",
       "                                   body_string_fdist  \\\n",
       "0  natural resources energy likely executive offi...   \n",
       "2  natural resources raised analysts estimates qu...   \n",
       "6  global natural markets structural change execu...   \n",
       "7  natural resources executive officer public nat...   \n",
       "8  forecasts production rising million aggressive...   \n",
       "\n",
       "                                     body_string_lem  is_equal    neg    neu  \\\n",
       "0  natural resources energy likely executive offi...      True  0.047  0.747   \n",
       "2  natural resources raised analysts estimates qu...      True  0.031  0.697   \n",
       "6  global natural markets structural change execu...      True  0.053  0.740   \n",
       "7  natural resources executive officer public nat...      True  0.070  0.685   \n",
       "8  forecasts production rising million aggressive...      True  0.059  0.735   \n",
       "\n",
       "     pos  compound sentiment  \n",
       "0  0.206    0.7717  positive  \n",
       "2  0.272    0.9468  positive  \n",
       "6  0.208    0.9001  positive  \n",
       "7  0.246    0.8689  positive  \n",
       "8  0.206    0.9081  positive  "
      ]
     },
     "execution_count": 493,
     "metadata": {},
     "output_type": "execute_result"
    }
   ],
   "source": [
    "# Create new variable with sentiment \"neutral,\" \"positive\" and \"negative\"\n",
    "df['sentiment'] = df['compound'].apply(lambda x: 'positive' if x >0 else 'neutral' if x==0 else 'negative')\n",
    "df.head(5)\n"
   ]
  },
  {
   "attachments": {},
   "cell_type": "markdown",
   "metadata": {},
   "source": [
    "## Visualize data"
   ]
  },
  {
   "cell_type": "code",
   "execution_count": 494,
   "metadata": {},
   "outputs": [
    {
     "data": {
      "text/plain": [
       "<Axes: xlabel='count', ylabel='sentiment'>"
      ]
     },
     "execution_count": 494,
     "metadata": {},
     "output_type": "execute_result"
    },
    {
     "data": {
      "image/png": "[encoded data removed]",
      "text/plain": [
       "<Figure size 640x480 with 1 Axes>"
      ]
     },
     "metadata": {},
     "output_type": "display_data"
    }
   ],
   "source": [
    "#Visualize data \n",
    "#seaborn.countplot() method is used to Show the counts of observations in each categorical bin using bars.\n",
    "# count plot on single categorical variable of 'sentiment'\n",
    "import seaborn as sns\n",
    "\n",
    "sns.countplot(y='sentiment',  data=df, palette=\"Set2\")"
   ]
  }
 ],
 "metadata": {
  "kernelspec": {
   "display_name": "Python 3",
   "language": "python",
   "name": "python3"
  },
  "language_info": {
   "codemirror_mode": {
    "name": "ipython",
    "version": 3
   },
   "file_extension": ".py",
   "mimetype": "text/x-python",
   "name": "python",
   "nbconvert_exporter": "python",
   "pygments_lexer": "ipython3",
   "version": "3.10.8"
  },
  "orig_nbformat": 4,
  "vscode": {
   "interpreter": {
    "hash": "af31cb7fe34359f32f44af411011df5137752e0d0bc390e2771c2d0b0524bd00"
   }
  }
 },
 "nbformat": 4,
 "nbformat_minor": 2
}
